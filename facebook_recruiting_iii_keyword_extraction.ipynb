{
  "nbformat": 4,
  "nbformat_minor": 0,
  "metadata": {
    "colab": {
      "name": "facebook-recruiting-iii-keyword-extraction.ipynb",
      "provenance": [],
      "collapsed_sections": [],
      "authorship_tag": "ABX9TyNT3NTECnuDAtJyQlUeqlMn",
      "include_colab_link": true
    },
    "kernelspec": {
      "name": "python3",
      "display_name": "Python 3"
    }
  },
  "cells": [
    {
      "cell_type": "markdown",
      "metadata": {
        "id": "view-in-github",
        "colab_type": "text"
      },
      "source": [
        "<a href=\"https://colab.research.google.com/github/erYash15/StackOverflow-Tag-prediction/blob/master/facebook_recruiting_iii_keyword_extraction.ipynb\" target=\"_parent\"><img src=\"https://colab.research.google.com/assets/colab-badge.svg\" alt=\"Open In Colab\"/></a>"
      ]
    },
    {
      "cell_type": "markdown",
      "metadata": {
        "id": "vgyilM6HKsLi",
        "colab_type": "text"
      },
      "source": [
        "Mounting the google drive to Google colab Notebook"
      ]
    },
    {
      "cell_type": "code",
      "metadata": {
        "id": "tDE_if7y-_jV",
        "colab_type": "code",
        "outputId": "c07831b1-eefe-4064-a59e-7b66e1f50077",
        "colab": {
          "base_uri": "https://localhost:8080/",
          "height": 122
        }
      },
      "source": [
        "from google.colab import drive\n",
        "drive.mount('/content/gdrive')"
      ],
      "execution_count": 1,
      "outputs": [
        {
          "output_type": "stream",
          "text": [
            "Go to this URL in a browser: https://accounts.google.com/o/oauth2/auth?client_id=947318989803-6bn6qk8qdgf4n4g3pfee6491hc0brc4i.apps.googleusercontent.com&redirect_uri=urn%3aietf%3awg%3aoauth%3a2.0%3aoob&response_type=code&scope=email%20https%3a%2f%2fwww.googleapis.com%2fauth%2fdocs.test%20https%3a%2f%2fwww.googleapis.com%2fauth%2fdrive%20https%3a%2f%2fwww.googleapis.com%2fauth%2fdrive.photos.readonly%20https%3a%2f%2fwww.googleapis.com%2fauth%2fpeopleapi.readonly\n",
            "\n",
            "Enter your authorization code:\n",
            "··········\n",
            "Mounted at /content/gdrive\n"
          ],
          "name": "stdout"
        }
      ]
    },
    {
      "cell_type": "markdown",
      "metadata": {
        "id": "w8ITbSCyM77b",
        "colab_type": "text"
      },
      "source": [
        "**Step 1** — Get the API key from your account\n",
        "Visit www.kaggle.com ⇨ login ⇨ My Account ⇨ Create New API Token\n",
        "The “kaggle.json” file will be auto downloaded.\n",
        "\n",
        "**Step 2** — Upload the kaggle.json file\n",
        "Use these code snippets in Google Colab for the task:"
      ]
    },
    {
      "cell_type": "code",
      "metadata": {
        "id": "yJmN8bc0_uXH",
        "colab_type": "code",
        "outputId": "9f512631-4ac7-4658-9a2d-cc93c832cb3b",
        "colab": {
          "resources": {
            "http://localhost:8080/nbextensions/google.colab/files.js": {
              "data": "Ly8gQ29weXJpZ2h0IDIwMTcgR29vZ2xlIExMQwovLwovLyBMaWNlbnNlZCB1bmRlciB0aGUgQXBhY2hlIExpY2Vuc2UsIFZlcnNpb24gMi4wICh0aGUgIkxpY2Vuc2UiKTsKLy8geW91IG1heSBub3QgdXNlIHRoaXMgZmlsZSBleGNlcHQgaW4gY29tcGxpYW5jZSB3aXRoIHRoZSBMaWNlbnNlLgovLyBZb3UgbWF5IG9idGFpbiBhIGNvcHkgb2YgdGhlIExpY2Vuc2UgYXQKLy8KLy8gICAgICBodHRwOi8vd3d3LmFwYWNoZS5vcmcvbGljZW5zZXMvTElDRU5TRS0yLjAKLy8KLy8gVW5sZXNzIHJlcXVpcmVkIGJ5IGFwcGxpY2FibGUgbGF3IG9yIGFncmVlZCB0byBpbiB3cml0aW5nLCBzb2Z0d2FyZQovLyBkaXN0cmlidXRlZCB1bmRlciB0aGUgTGljZW5zZSBpcyBkaXN0cmlidXRlZCBvbiBhbiAiQVMgSVMiIEJBU0lTLAovLyBXSVRIT1VUIFdBUlJBTlRJRVMgT1IgQ09ORElUSU9OUyBPRiBBTlkgS0lORCwgZWl0aGVyIGV4cHJlc3Mgb3IgaW1wbGllZC4KLy8gU2VlIHRoZSBMaWNlbnNlIGZvciB0aGUgc3BlY2lmaWMgbGFuZ3VhZ2UgZ292ZXJuaW5nIHBlcm1pc3Npb25zIGFuZAovLyBsaW1pdGF0aW9ucyB1bmRlciB0aGUgTGljZW5zZS4KCi8qKgogKiBAZmlsZW92ZXJ2aWV3IEhlbHBlcnMgZm9yIGdvb2dsZS5jb2xhYiBQeXRob24gbW9kdWxlLgogKi8KKGZ1bmN0aW9uKHNjb3BlKSB7CmZ1bmN0aW9uIHNwYW4odGV4dCwgc3R5bGVBdHRyaWJ1dGVzID0ge30pIHsKICBjb25zdCBlbGVtZW50ID0gZG9jdW1lbnQuY3JlYXRlRWxlbWVudCgnc3BhbicpOwogIGVsZW1lbnQudGV4dENvbnRlbnQgPSB0ZXh0OwogIGZvciAoY29uc3Qga2V5IG9mIE9iamVjdC5rZXlzKHN0eWxlQXR0cmlidXRlcykpIHsKICAgIGVsZW1lbnQuc3R5bGVba2V5XSA9IHN0eWxlQXR0cmlidXRlc1trZXldOwogIH0KICByZXR1cm4gZWxlbWVudDsKfQoKLy8gTWF4IG51bWJlciBvZiBieXRlcyB3aGljaCB3aWxsIGJlIHVwbG9hZGVkIGF0IGEgdGltZS4KY29uc3QgTUFYX1BBWUxPQURfU0laRSA9IDEwMCAqIDEwMjQ7Ci8vIE1heCBhbW91bnQgb2YgdGltZSB0byBibG9jayB3YWl0aW5nIGZvciB0aGUgdXNlci4KY29uc3QgRklMRV9DSEFOR0VfVElNRU9VVF9NUyA9IDMwICogMTAwMDsKCmZ1bmN0aW9uIF91cGxvYWRGaWxlcyhpbnB1dElkLCBvdXRwdXRJZCkgewogIGNvbnN0IHN0ZXBzID0gdXBsb2FkRmlsZXNTdGVwKGlucHV0SWQsIG91dHB1dElkKTsKICBjb25zdCBvdXRwdXRFbGVtZW50ID0gZG9jdW1lbnQuZ2V0RWxlbWVudEJ5SWQob3V0cHV0SWQpOwogIC8vIENhY2hlIHN0ZXBzIG9uIHRoZSBvdXRwdXRFbGVtZW50IHRvIG1ha2UgaXQgYXZhaWxhYmxlIGZvciB0aGUgbmV4dCBjYWxsCiAgLy8gdG8gdXBsb2FkRmlsZXNDb250aW51ZSBmcm9tIFB5dGhvbi4KICBvdXRwdXRFbGVtZW50LnN0ZXBzID0gc3RlcHM7CgogIHJldHVybiBfdXBsb2FkRmlsZXNDb250aW51ZShvdXRwdXRJZCk7Cn0KCi8vIFRoaXMgaXMgcm91Z2hseSBhbiBhc3luYyBnZW5lcmF0b3IgKG5vdCBzdXBwb3J0ZWQgaW4gdGhlIGJyb3dzZXIgeWV0KSwKLy8gd2hlcmUgdGhlcmUgYXJlIG11bHRpcGxlIGFzeW5jaHJvbm91cyBzdGVwcyBhbmQgdGhlIFB5dGhvbiBzaWRlIGlzIGdvaW5nCi8vIHRvIHBvbGwgZm9yIGNvbXBsZXRpb24gb2YgZWFjaCBzdGVwLgovLyBUaGlzIHVzZXMgYSBQcm9taXNlIHRvIGJsb2NrIHRoZSBweXRob24gc2lkZSBvbiBjb21wbGV0aW9uIG9mIGVhY2ggc3RlcCwKLy8gdGhlbiBwYXNzZXMgdGhlIHJlc3VsdCBvZiB0aGUgcHJldmlvdXMgc3RlcCBhcyB0aGUgaW5wdXQgdG8gdGhlIG5leHQgc3RlcC4KZnVuY3Rpb24gX3VwbG9hZEZpbGVzQ29udGludWUob3V0cHV0SWQpIHsKICBjb25zdCBvdXRwdXRFbGVtZW50ID0gZG9jdW1lbnQuZ2V0RWxlbWVudEJ5SWQob3V0cHV0SWQpOwogIGNvbnN0IHN0ZXBzID0gb3V0cHV0RWxlbWVudC5zdGVwczsKCiAgY29uc3QgbmV4dCA9IHN0ZXBzLm5leHQob3V0cHV0RWxlbWVudC5sYXN0UHJvbWlzZVZhbHVlKTsKICByZXR1cm4gUHJvbWlzZS5yZXNvbHZlKG5leHQudmFsdWUucHJvbWlzZSkudGhlbigodmFsdWUpID0+IHsKICAgIC8vIENhY2hlIHRoZSBsYXN0IHByb21pc2UgdmFsdWUgdG8gbWFrZSBpdCBhdmFpbGFibGUgdG8gdGhlIG5leHQKICAgIC8vIHN0ZXAgb2YgdGhlIGdlbmVyYXRvci4KICAgIG91dHB1dEVsZW1lbnQubGFzdFByb21pc2VWYWx1ZSA9IHZhbHVlOwogICAgcmV0dXJuIG5leHQudmFsdWUucmVzcG9uc2U7CiAgfSk7Cn0KCi8qKgogKiBHZW5lcmF0b3IgZnVuY3Rpb24gd2hpY2ggaXMgY2FsbGVkIGJldHdlZW4gZWFjaCBhc3luYyBzdGVwIG9mIHRoZSB1cGxvYWQKICogcHJvY2Vzcy4KICogQHBhcmFtIHtzdHJpbmd9IGlucHV0SWQgRWxlbWVudCBJRCBvZiB0aGUgaW5wdXQgZmlsZSBwaWNrZXIgZWxlbWVudC4KICogQHBhcmFtIHtzdHJpbmd9IG91dHB1dElkIEVsZW1lbnQgSUQgb2YgdGhlIG91dHB1dCBkaXNwbGF5LgogKiBAcmV0dXJuIHshSXRlcmFibGU8IU9iamVjdD59IEl0ZXJhYmxlIG9mIG5leHQgc3RlcHMuCiAqLwpmdW5jdGlvbiogdXBsb2FkRmlsZXNTdGVwKGlucHV0SWQsIG91dHB1dElkKSB7CiAgY29uc3QgaW5wdXRFbGVtZW50ID0gZG9jdW1lbnQuZ2V0RWxlbWVudEJ5SWQoaW5wdXRJZCk7CiAgaW5wdXRFbGVtZW50LmRpc2FibGVkID0gZmFsc2U7CgogIGNvbnN0IG91dHB1dEVsZW1lbnQgPSBkb2N1bWVudC5nZXRFbGVtZW50QnlJZChvdXRwdXRJZCk7CiAgb3V0cHV0RWxlbWVudC5pbm5lckhUTUwgPSAnJzsKCiAgY29uc3QgcGlja2VkUHJvbWlzZSA9IG5ldyBQcm9taXNlKChyZXNvbHZlKSA9PiB7CiAgICBpbnB1dEVsZW1lbnQuYWRkRXZlbnRMaXN0ZW5lcignY2hhbmdlJywgKGUpID0+IHsKICAgICAgcmVzb2x2ZShlLnRhcmdldC5maWxlcyk7CiAgICB9KTsKICB9KTsKCiAgY29uc3QgY2FuY2VsID0gZG9jdW1lbnQuY3JlYXRlRWxlbWVudCgnYnV0dG9uJyk7CiAgaW5wdXRFbGVtZW50LnBhcmVudEVsZW1lbnQuYXBwZW5kQ2hpbGQoY2FuY2VsKTsKICBjYW5jZWwudGV4dENvbnRlbnQgPSAnQ2FuY2VsIHVwbG9hZCc7CiAgY29uc3QgY2FuY2VsUHJvbWlzZSA9IG5ldyBQcm9taXNlKChyZXNvbHZlKSA9PiB7CiAgICBjYW5jZWwub25jbGljayA9ICgpID0+IHsKICAgICAgcmVzb2x2ZShudWxsKTsKICAgIH07CiAgfSk7CgogIC8vIENhbmNlbCB1cGxvYWQgaWYgdXNlciBoYXNuJ3QgcGlja2VkIGFueXRoaW5nIGluIHRpbWVvdXQuCiAgY29uc3QgdGltZW91dFByb21pc2UgPSBuZXcgUHJvbWlzZSgocmVzb2x2ZSkgPT4gewogICAgc2V0VGltZW91dCgoKSA9PiB7CiAgICAgIHJlc29sdmUobnVsbCk7CiAgICB9LCBGSUxFX0NIQU5HRV9USU1FT1VUX01TKTsKICB9KTsKCiAgLy8gV2FpdCBmb3IgdGhlIHVzZXIgdG8gcGljayB0aGUgZmlsZXMuCiAgY29uc3QgZmlsZXMgPSB5aWVsZCB7CiAgICBwcm9taXNlOiBQcm9taXNlLnJhY2UoW3BpY2tlZFByb21pc2UsIHRpbWVvdXRQcm9taXNlLCBjYW5jZWxQcm9taXNlXSksCiAgICByZXNwb25zZTogewogICAgICBhY3Rpb246ICdzdGFydGluZycsCiAgICB9CiAgfTsKCiAgaWYgKCFmaWxlcykgewogICAgcmV0dXJuIHsKICAgICAgcmVzcG9uc2U6IHsKICAgICAgICBhY3Rpb246ICdjb21wbGV0ZScsCiAgICAgIH0KICAgIH07CiAgfQoKICBjYW5jZWwucmVtb3ZlKCk7CgogIC8vIERpc2FibGUgdGhlIGlucHV0IGVsZW1lbnQgc2luY2UgZnVydGhlciBwaWNrcyBhcmUgbm90IGFsbG93ZWQuCiAgaW5wdXRFbGVtZW50LmRpc2FibGVkID0gdHJ1ZTsKCiAgZm9yIChjb25zdCBmaWxlIG9mIGZpbGVzKSB7CiAgICBjb25zdCBsaSA9IGRvY3VtZW50LmNyZWF0ZUVsZW1lbnQoJ2xpJyk7CiAgICBsaS5hcHBlbmQoc3BhbihmaWxlLm5hbWUsIHtmb250V2VpZ2h0OiAnYm9sZCd9KSk7CiAgICBsaS5hcHBlbmQoc3BhbigKICAgICAgICBgKCR7ZmlsZS50eXBlIHx8ICduL2EnfSkgLSAke2ZpbGUuc2l6ZX0gYnl0ZXMsIGAgKwogICAgICAgIGBsYXN0IG1vZGlmaWVkOiAkewogICAgICAgICAgICBmaWxlLmxhc3RNb2RpZmllZERhdGUgPyBmaWxlLmxhc3RNb2RpZmllZERhdGUudG9Mb2NhbGVEYXRlU3RyaW5nKCkgOgogICAgICAgICAgICAgICAgICAgICAgICAgICAgICAgICAgICAnbi9hJ30gLSBgKSk7CiAgICBjb25zdCBwZXJjZW50ID0gc3BhbignMCUgZG9uZScpOwogICAgbGkuYXBwZW5kQ2hpbGQocGVyY2VudCk7CgogICAgb3V0cHV0RWxlbWVudC5hcHBlbmRDaGlsZChsaSk7CgogICAgY29uc3QgZmlsZURhdGFQcm9taXNlID0gbmV3IFByb21pc2UoKHJlc29sdmUpID0+IHsKICAgICAgY29uc3QgcmVhZGVyID0gbmV3IEZpbGVSZWFkZXIoKTsKICAgICAgcmVhZGVyLm9ubG9hZCA9IChlKSA9PiB7CiAgICAgICAgcmVzb2x2ZShlLnRhcmdldC5yZXN1bHQpOwogICAgICB9OwogICAgICByZWFkZXIucmVhZEFzQXJyYXlCdWZmZXIoZmlsZSk7CiAgICB9KTsKICAgIC8vIFdhaXQgZm9yIHRoZSBkYXRhIHRvIGJlIHJlYWR5LgogICAgbGV0IGZpbGVEYXRhID0geWllbGQgewogICAgICBwcm9taXNlOiBmaWxlRGF0YVByb21pc2UsCiAgICAgIHJlc3BvbnNlOiB7CiAgICAgICAgYWN0aW9uOiAnY29udGludWUnLAogICAgICB9CiAgICB9OwoKICAgIC8vIFVzZSBhIGNodW5rZWQgc2VuZGluZyB0byBhdm9pZCBtZXNzYWdlIHNpemUgbGltaXRzLiBTZWUgYi82MjExNTY2MC4KICAgIGxldCBwb3NpdGlvbiA9IDA7CiAgICB3aGlsZSAocG9zaXRpb24gPCBmaWxlRGF0YS5ieXRlTGVuZ3RoKSB7CiAgICAgIGNvbnN0IGxlbmd0aCA9IE1hdGgubWluKGZpbGVEYXRhLmJ5dGVMZW5ndGggLSBwb3NpdGlvbiwgTUFYX1BBWUxPQURfU0laRSk7CiAgICAgIGNvbnN0IGNodW5rID0gbmV3IFVpbnQ4QXJyYXkoZmlsZURhdGEsIHBvc2l0aW9uLCBsZW5ndGgpOwogICAgICBwb3NpdGlvbiArPSBsZW5ndGg7CgogICAgICBjb25zdCBiYXNlNjQgPSBidG9hKFN0cmluZy5mcm9tQ2hhckNvZGUuYXBwbHkobnVsbCwgY2h1bmspKTsKICAgICAgeWllbGQgewogICAgICAgIHJlc3BvbnNlOiB7CiAgICAgICAgICBhY3Rpb246ICdhcHBlbmQnLAogICAgICAgICAgZmlsZTogZmlsZS5uYW1lLAogICAgICAgICAgZGF0YTogYmFzZTY0LAogICAgICAgIH0sCiAgICAgIH07CiAgICAgIHBlcmNlbnQudGV4dENvbnRlbnQgPQogICAgICAgICAgYCR7TWF0aC5yb3VuZCgocG9zaXRpb24gLyBmaWxlRGF0YS5ieXRlTGVuZ3RoKSAqIDEwMCl9JSBkb25lYDsKICAgIH0KICB9CgogIC8vIEFsbCBkb25lLgogIHlpZWxkIHsKICAgIHJlc3BvbnNlOiB7CiAgICAgIGFjdGlvbjogJ2NvbXBsZXRlJywKICAgIH0KICB9Owp9CgpzY29wZS5nb29nbGUgPSBzY29wZS5nb29nbGUgfHwge307CnNjb3BlLmdvb2dsZS5jb2xhYiA9IHNjb3BlLmdvb2dsZS5jb2xhYiB8fCB7fTsKc2NvcGUuZ29vZ2xlLmNvbGFiLl9maWxlcyA9IHsKICBfdXBsb2FkRmlsZXMsCiAgX3VwbG9hZEZpbGVzQ29udGludWUsCn07Cn0pKHNlbGYpOwo=",
              "ok": true,
              "headers": [
                [
                  "content-type",
                  "application/javascript"
                ]
              ],
              "status": 200,
              "status_text": ""
            }
          },
          "base_uri": "https://localhost:8080/",
          "height": 111
        }
      },
      "source": [
        "from google.colab import files\n",
        "files.upload()  #this will prompt you to upload the kaggle.json"
      ],
      "execution_count": 0,
      "outputs": [
        {
          "output_type": "display_data",
          "data": {
            "text/html": [
              "\n",
              "     <input type=\"file\" id=\"files-668f0f2e-aeb5-44d6-bbdd-d9c67be05ec0\" name=\"files[]\" multiple disabled />\n",
              "     <output id=\"result-668f0f2e-aeb5-44d6-bbdd-d9c67be05ec0\">\n",
              "      Upload widget is only available when the cell has been executed in the\n",
              "      current browser session. Please rerun this cell to enable.\n",
              "      </output>\n",
              "      <script src=\"/nbextensions/google.colab/files.js\"></script> "
            ],
            "text/plain": [
              "<IPython.core.display.HTML object>"
            ]
          },
          "metadata": {
            "tags": []
          }
        },
        {
          "output_type": "stream",
          "text": [
            "Saving kaggle.json to kaggle.json\n"
          ],
          "name": "stdout"
        },
        {
          "output_type": "execute_result",
          "data": {
            "text/plain": [
              "{'kaggle.json': b'{\"username\":\"eryash15\",\"key\":\"4d3c754d226d7fba028ded4615217df0\"}'}"
            ]
          },
          "metadata": {
            "tags": []
          },
          "execution_count": 23
        }
      ]
    },
    {
      "cell_type": "markdown",
      "metadata": {
        "id": "7dByzJ_6NXW8",
        "colab_type": "text"
      },
      "source": [
        "The below will create the necessary folder path."
      ]
    },
    {
      "cell_type": "code",
      "metadata": {
        "id": "MbNwyhwd_4UV",
        "colab_type": "code",
        "outputId": "d519a33a-d84c-43c6-f16b-9784d5bcf5f3",
        "colab": {
          "base_uri": "https://localhost:8080/",
          "height": 34
        }
      },
      "source": [
        "!pip install -q kaggle\n",
        "!mkdir -p ~/.kaggle\n",
        "!cp kaggle.json ~/.kaggle/\n",
        "!ls ~/.kaggle\n",
        "!chmod 600 /root/.kaggle/kaggle.json  # set permission"
      ],
      "execution_count": 0,
      "outputs": [
        {
          "output_type": "stream",
          "text": [
            "kaggle.json\n"
          ],
          "name": "stdout"
        }
      ]
    },
    {
      "cell_type": "markdown",
      "metadata": {
        "id": "d7sGuZETPD9r",
        "colab_type": "text"
      },
      "source": [
        "**Step 3** — Download the required dataset\n",
        "Simply download the required dataset with the syntax:"
      ]
    },
    {
      "cell_type": "code",
      "metadata": {
        "id": "hZw1RhbECMT2",
        "colab_type": "code",
        "outputId": "237c9ffd-3159-47d4-f1bd-e84a9ee2d80f",
        "colab": {
          "base_uri": "https://localhost:8080/",
          "height": 207
        }
      },
      "source": [
        "!kaggle competitions download -c facebook-recruiting-iii-keyword-extraction -p /content/gdrive/My\\ Drive/kaggle"
      ],
      "execution_count": 0,
      "outputs": [
        {
          "output_type": "stream",
          "text": [
            "Warning: Looks like you're using an outdated API Version, please consider updating (server 1.5.6 / client 1.5.4)\n",
            "Downloading Train.zip to /content/gdrive/My Drive/kaggle\n",
            "100% 2.18G/2.19G [00:27<00:00, 98.0MB/s]\n",
            "100% 2.19G/2.19G [00:27<00:00, 84.3MB/s]\n",
            "Downloading SampleSubmission.csv.zip to /content/gdrive/My Drive/kaggle\n",
            "100% 4.81M/4.81M [00:00<00:00, 41.5MB/s]\n",
            "\n",
            "Downloading Test.zip to /content/gdrive/My Drive/kaggle\n",
            " 99% 718M/725M [00:09<00:00, 86.0MB/s]\n",
            "100% 725M/725M [00:09<00:00, 83.1MB/s]\n"
          ],
          "name": "stdout"
        }
      ]
    },
    {
      "cell_type": "markdown",
      "metadata": {
        "id": "Se3folSNPMAE",
        "colab_type": "text"
      },
      "source": [
        "**Step 4** — Unzip\n",
        "\n",
        "*For dataset with multiple zip files like the example, I tend to change directory to the designated folder and unzip them one by one.*\n",
        "\n",
        "!unzip -q file[.zip] -d [exdir]\n",
        "\n",
        "-q suppress the printing of the file names being extracted\n",
        "\n",
        "-d [exdir] optional directory to which to extract files *italicized text*"
      ]
    },
    {
      "cell_type": "code",
      "metadata": {
        "id": "HmvaHqqbAOt2",
        "colab_type": "code",
        "outputId": "ce8c6e96-7e80-44ac-adfe-bcb11f8bd407",
        "colab": {
          "base_uri": "https://localhost:8080/",
          "height": 119
        }
      },
      "source": [
        "import os\n",
        "os.chdir('/content/gdrive/My Drive/kaggle')  #change dir\n",
        "!unzip Train.zip  #unzip data\n",
        "!unzip Test.zip  #unzip data\n",
        "!unzip SampleSubmission.csv.zip"
      ],
      "execution_count": 0,
      "outputs": [
        {
          "output_type": "stream",
          "text": [
            "Archive:  Train.zip\n",
            "  inflating: Train.csv               \n",
            "Archive:  Test.zip\n",
            "  inflating: Test.csv                \n",
            "Archive:  SampleSubmission.csv.zip\n",
            "  inflating: SampleSubmission.csv    \n"
          ],
          "name": "stdout"
        }
      ]
    },
    {
      "cell_type": "markdown",
      "metadata": {
        "id": "9fkjYgZwRG6O",
        "colab_type": "text"
      },
      "source": [
        "### **Import Libraries**"
      ]
    },
    {
      "cell_type": "code",
      "metadata": {
        "id": "4qV9y6RcREXN",
        "colab_type": "code",
        "colab": {}
      },
      "source": [
        "import pandas as pd\n",
        "import os\n",
        "import datetime\n",
        "import csv\n",
        "from sklearn.feature_extraction.text import CountVectorizer"
      ],
      "execution_count": 0,
      "outputs": []
    },
    {
      "cell_type": "markdown",
      "metadata": {
        "id": "L1WCHsXCT0l2",
        "colab_type": "text"
      },
      "source": [
        "## **Data Cleaning** - Stage 1"
      ]
    },
    {
      "cell_type": "code",
      "metadata": {
        "id": "0nameQ68Amu-",
        "colab_type": "code",
        "colab": {}
      },
      "source": [
        "train_df = pd.read_csv('/content/gdrive/My Drive/kaggle/Train.csv')"
      ],
      "execution_count": 0,
      "outputs": []
    },
    {
      "cell_type": "code",
      "metadata": {
        "id": "5ZX58RMxKpQF",
        "colab_type": "code",
        "outputId": "31ba8dcf-e07f-44fc-ebdc-b4c6c1440dab",
        "colab": {
          "base_uri": "https://localhost:8080/",
          "height": 34
        }
      },
      "source": [
        "print(\"Length of Raw input Train data\", len(train_df))"
      ],
      "execution_count": 3,
      "outputs": [
        {
          "output_type": "stream",
          "text": [
            "Length of Raw input Train data 6034195\n"
          ],
          "name": "stdout"
        }
      ]
    },
    {
      "cell_type": "code",
      "metadata": {
        "id": "0ZrMnqTTVRaJ",
        "colab_type": "code",
        "outputId": "a8a4b9c4-d117-4626-8a7e-9382a7142588",
        "colab": {
          "base_uri": "https://localhost:8080/",
          "height": 85
        }
      },
      "source": [
        "#Null Data Field\n",
        "for c in train_df.columns:   \n",
        "    print(\"Number of Null Cells in ---\",c,\"----are \",train_df[c].isnull().sum())"
      ],
      "execution_count": 4,
      "outputs": [
        {
          "output_type": "stream",
          "text": [
            "Number of Null Cells in --- Id ----are  0\n",
            "Number of Null Cells in --- Title ----are  0\n",
            "Number of Null Cells in --- Body ----are  0\n",
            "Number of Null Cells in --- Tags ----are  8\n"
          ],
          "name": "stdout"
        }
      ]
    },
    {
      "cell_type": "code",
      "metadata": {
        "id": "er0mB-wLTgBX",
        "colab_type": "code",
        "colab": {}
      },
      "source": [
        "#Remove Duplicates and field with Null Values\n",
        "train_df.drop_duplicates(subset = ['Title','Body','Tags'], keep = 'first', inplace = True)\n",
        "train_df.dropna(axis = 'index', how =  'any', inplace = True)"
      ],
      "execution_count": 0,
      "outputs": []
    },
    {
      "cell_type": "code",
      "metadata": {
        "id": "r4hIjl6nUCUE",
        "colab_type": "code",
        "outputId": "4e8e7027-9c91-40c5-8723-8898f1cdb061",
        "colab": {
          "base_uri": "https://localhost:8080/",
          "height": 34
        }
      },
      "source": [
        "print(\"Length of Raw input Train data\", len(train_df))"
      ],
      "execution_count": 6,
      "outputs": [
        {
          "output_type": "stream",
          "text": [
            "Length of Raw input Train data 4206307\n"
          ],
          "name": "stdout"
        }
      ]
    },
    {
      "cell_type": "markdown",
      "metadata": {
        "id": "NymlULI9WF1M",
        "colab_type": "text"
      },
      "source": [
        "Add tag_count coloumn in train_df"
      ]
    },
    {
      "cell_type": "code",
      "metadata": {
        "id": "KCrfN3-NV6pb",
        "colab_type": "code",
        "colab": {}
      },
      "source": [
        "tags_count = []\n",
        "for tags in train_df.Tags:\n",
        "    tags_count.append(len(tags.split(\" \")))\n",
        "train_df['Tags_count'] = tags_count\n",
        "del tags_count "
      ],
      "execution_count": 0,
      "outputs": []
    },
    {
      "cell_type": "code",
      "metadata": {
        "id": "DyGaEtlmWNRG",
        "colab_type": "code",
        "outputId": "bbaf3cf9-2318-409a-8427-3f86d2535a6d",
        "colab": {
          "base_uri": "https://localhost:8080/",
          "height": 289
        }
      },
      "source": [
        "train_df.head()"
      ],
      "execution_count": 9,
      "outputs": [
        {
          "output_type": "execute_result",
          "data": {
            "text/html": [
              "<div>\n",
              "<style scoped>\n",
              "    .dataframe tbody tr th:only-of-type {\n",
              "        vertical-align: middle;\n",
              "    }\n",
              "\n",
              "    .dataframe tbody tr th {\n",
              "        vertical-align: top;\n",
              "    }\n",
              "\n",
              "    .dataframe thead th {\n",
              "        text-align: right;\n",
              "    }\n",
              "</style>\n",
              "<table border=\"1\" class=\"dataframe\">\n",
              "  <thead>\n",
              "    <tr style=\"text-align: right;\">\n",
              "      <th></th>\n",
              "      <th>Id</th>\n",
              "      <th>Title</th>\n",
              "      <th>Body</th>\n",
              "      <th>Tags</th>\n",
              "      <th>Tags_count</th>\n",
              "    </tr>\n",
              "  </thead>\n",
              "  <tbody>\n",
              "    <tr>\n",
              "      <th>0</th>\n",
              "      <td>1</td>\n",
              "      <td>How to check if an uploaded file is an image w...</td>\n",
              "      <td>&lt;p&gt;I'd like to check if an uploaded file is an...</td>\n",
              "      <td>php image-processing file-upload upload mime-t...</td>\n",
              "      <td>5</td>\n",
              "    </tr>\n",
              "    <tr>\n",
              "      <th>1</th>\n",
              "      <td>2</td>\n",
              "      <td>How can I prevent firefox from closing when I ...</td>\n",
              "      <td>&lt;p&gt;In my favorite editor (vim), I regularly us...</td>\n",
              "      <td>firefox</td>\n",
              "      <td>1</td>\n",
              "    </tr>\n",
              "    <tr>\n",
              "      <th>2</th>\n",
              "      <td>3</td>\n",
              "      <td>R Error Invalid type (list) for variable</td>\n",
              "      <td>&lt;p&gt;I am import matlab file and construct a dat...</td>\n",
              "      <td>r matlab machine-learning</td>\n",
              "      <td>3</td>\n",
              "    </tr>\n",
              "    <tr>\n",
              "      <th>3</th>\n",
              "      <td>4</td>\n",
              "      <td>How do I replace special characters in a URL?</td>\n",
              "      <td>&lt;p&gt;This is probably very simple, but I simply ...</td>\n",
              "      <td>c# url encoding</td>\n",
              "      <td>3</td>\n",
              "    </tr>\n",
              "    <tr>\n",
              "      <th>4</th>\n",
              "      <td>5</td>\n",
              "      <td>How to modify whois contact details?</td>\n",
              "      <td>&lt;pre&gt;&lt;code&gt;function modify(.......)\\n{\\n  $mco...</td>\n",
              "      <td>php api file-get-contents</td>\n",
              "      <td>3</td>\n",
              "    </tr>\n",
              "  </tbody>\n",
              "</table>\n",
              "</div>"
            ],
            "text/plain": [
              "   Id  ... Tags_count\n",
              "0   1  ...          5\n",
              "1   2  ...          1\n",
              "2   3  ...          3\n",
              "3   4  ...          3\n",
              "4   5  ...          3\n",
              "\n",
              "[5 rows x 5 columns]"
            ]
          },
          "metadata": {
            "tags": []
          },
          "execution_count": 9
        }
      ]
    },
    {
      "cell_type": "markdown",
      "metadata": {
        "id": "ooTCwUQ-Yubu",
        "colab_type": "text"
      },
      "source": [
        "Saving the train_df file in Google Drive."
      ]
    },
    {
      "cell_type": "code",
      "metadata": {
        "id": "w11_k2hsW-oH",
        "colab_type": "code",
        "colab": {
          "base_uri": "https://localhost:8080/",
          "height": 34
        },
        "outputId": "61aa019d-8cff-4a1b-897e-50d8b01ac807"
      },
      "source": [
        "train_df.to_csv(\"/content/gdrive/My Drive/kaggle/train_df.csv\")\n",
        "print(\"train_df saved to google drive.\")"
      ],
      "execution_count": 11,
      "outputs": [
        {
          "output_type": "stream",
          "text": [
            "train_df saved to google drive.\n"
          ],
          "name": "stdout"
        }
      ]
    },
    {
      "cell_type": "markdown",
      "metadata": {
        "id": "6idesDqBY3cP",
        "colab_type": "text"
      },
      "source": [
        "## **Analysis of Tags**"
      ]
    },
    {
      "cell_type": "code",
      "metadata": {
        "id": "1IyQQbIbYUzC",
        "colab_type": "code",
        "colab": {}
      },
      "source": [
        "#making spare matrix of tags\n",
        "cv = CountVectorizer(tokenizer = lambda x: x.split()) \n",
        "# if we don't use tokenizer only numeric and albhabet will ignore .-, etc.\n",
        "# and igonre the word with 1 letter.\n",
        "tag_mtx = cv.fit_transform(train_df['Tags'])"
      ],
      "execution_count": 0,
      "outputs": []
    },
    {
      "cell_type": "code",
      "metadata": {
        "id": "6cHQ5E1IjaHF",
        "colab_type": "code",
        "outputId": "6dd831b3-10a7-40f3-d832-f7f9ea75cd28",
        "colab": {
          "base_uri": "https://localhost:8080/",
          "height": 51
        }
      },
      "source": [
        "print(\"Number of data points :\", tag_mtx.shape[0])#rows\n",
        "print(\"Number of unique tags :\", tag_mtx.shape[1])#columns"
      ],
      "execution_count": 13,
      "outputs": [
        {
          "output_type": "stream",
          "text": [
            "Number of data points : 4206307\n",
            "Number of unique tags : 42048\n"
          ],
          "name": "stdout"
        }
      ]
    },
    {
      "cell_type": "markdown",
      "metadata": {
        "id": "H7FRh9Hn4j5s",
        "colab_type": "text"
      },
      "source": [
        "freq_dict contains all the tags and its frequency."
      ]
    },
    {
      "cell_type": "code",
      "metadata": {
        "id": "xYLOnv6vlD_A",
        "colab_type": "code",
        "colab": {}
      },
      "source": [
        "all_unique_tags = cv.get_feature_names()\n",
        "freq = tag_mtx.sum(axis = 0).A1\n",
        "#.A1 convert everyting to 1-D\n",
        "freq_dict = dict(zip(all_unique_tags,freq))"
      ],
      "execution_count": 0,
      "outputs": []
    },
    {
      "cell_type": "markdown",
      "metadata": {
        "id": "o8lJ77ug_MIJ",
        "colab_type": "text"
      },
      "source": [
        "Saving freq_dict in Google Drive and then converting it to pandas dataframe because for converting dictionary directly to pandas dataframe we have to convert values in list form and to avoid we first create .csv file. "
      ]
    },
    {
      "cell_type": "code",
      "metadata": {
        "id": "kQbY5SOM_LqE",
        "colab_type": "code",
        "colab": {
          "base_uri": "https://localhost:8080/",
          "height": 204
        },
        "outputId": "17a695c9-5fe0-47bb-9cab-059e8b7717c5"
      },
      "source": [
        "#Saving this dictionary to csv files.\n",
        "with open('/content/gdrive/My Drive/kaggle/tag_freq_dict.csv', 'w') as csv_file:\n",
        "    writer = csv.writer(csv_file)\n",
        "    for key, value in freq_dict.items():\n",
        "        writer.writerow([key, value])\n",
        "tag_df = pd.read_csv('/content/gdrive/My Drive/kaggle/tag_freq_dict.csv', names=['Tags', 'Counts'])\n",
        "tag_df.head()"
      ],
      "execution_count": 67,
      "outputs": [
        {
          "output_type": "execute_result",
          "data": {
            "text/html": [
              "<div>\n",
              "<style scoped>\n",
              "    .dataframe tbody tr th:only-of-type {\n",
              "        vertical-align: middle;\n",
              "    }\n",
              "\n",
              "    .dataframe tbody tr th {\n",
              "        vertical-align: top;\n",
              "    }\n",
              "\n",
              "    .dataframe thead th {\n",
              "        text-align: right;\n",
              "    }\n",
              "</style>\n",
              "<table border=\"1\" class=\"dataframe\">\n",
              "  <thead>\n",
              "    <tr style=\"text-align: right;\">\n",
              "      <th></th>\n",
              "      <th>Tags</th>\n",
              "      <th>Counts</th>\n",
              "    </tr>\n",
              "  </thead>\n",
              "  <tbody>\n",
              "    <tr>\n",
              "      <th>0</th>\n",
              "      <td>.a</td>\n",
              "      <td>18</td>\n",
              "    </tr>\n",
              "    <tr>\n",
              "      <th>1</th>\n",
              "      <td>.app</td>\n",
              "      <td>37</td>\n",
              "    </tr>\n",
              "    <tr>\n",
              "      <th>2</th>\n",
              "      <td>.asp.net-mvc</td>\n",
              "      <td>1</td>\n",
              "    </tr>\n",
              "    <tr>\n",
              "      <th>3</th>\n",
              "      <td>.aspxauth</td>\n",
              "      <td>21</td>\n",
              "    </tr>\n",
              "    <tr>\n",
              "      <th>4</th>\n",
              "      <td>.bash-profile</td>\n",
              "      <td>138</td>\n",
              "    </tr>\n",
              "  </tbody>\n",
              "</table>\n",
              "</div>"
            ],
            "text/plain": [
              "            Tags  Counts\n",
              "0             .a      18\n",
              "1           .app      37\n",
              "2   .asp.net-mvc       1\n",
              "3      .aspxauth      21\n",
              "4  .bash-profile     138"
            ]
          },
          "metadata": {
            "tags": []
          },
          "execution_count": 67
        }
      ]
    },
    {
      "cell_type": "code",
      "metadata": {
        "id": "Y9pGiec09nKU",
        "colab_type": "code",
        "colab": {
          "base_uri": "https://localhost:8080/",
          "height": 1000
        },
        "outputId": "7f9ab5ac-0f30-4b81-8b43-9a83bad4dd81"
      },
      "source": [
        ""
      ],
      "execution_count": 57,
      "outputs": [
        {
          "output_type": "execute_result",
          "data": {
            "text/plain": [
              "{'.a': 18,\n",
              " '.app': 37,\n",
              " '.asp.net-mvc': 1,\n",
              " '.aspxauth': 21,\n",
              " '.bash-profile': 138,\n",
              " '.class-file': 53,\n",
              " '.cs-file': 14,\n",
              " '.doc': 47,\n",
              " '.drv': 1,\n",
              " '.ds-store': 8,\n",
              " '.each': 184,\n",
              " '.emf': 33,\n",
              " '.exe': 27,\n",
              " '.exe.config': 1,\n",
              " '.hgtags': 6,\n",
              " '.htaccess': 14884,\n",
              " '.htpasswd': 61,\n",
              " '.ico': 10,\n",
              " '.lib': 20,\n",
              " '.lrc': 4,\n",
              " '.mobi': 2,\n",
              " '.mov': 16,\n",
              " '.net': 114087,\n",
              " '.net-1.0': 19,\n",
              " '.net-1.1': 218,\n",
              " '.net-2.0': 1661,\n",
              " '.net-3.0': 55,\n",
              " '.net-3.5': 3693,\n",
              " '.net-4.0': 5020,\n",
              " '.net-4.0-beta-2': 16,\n",
              " '.net-4.0-rc1': 6,\n",
              " '.net-4.5': 695,\n",
              " '.net-assembly': 516,\n",
              " '.net-authorization': 2,\n",
              " '.net-bcl': 2,\n",
              " '.net-bugs': 1,\n",
              " '.net-cf-3.5': 61,\n",
              " '.net-client-profile': 53,\n",
              " '.net-compact': 1,\n",
              " '.net-framework': 235,\n",
              " '.net-framework-source': 15,\n",
              " '.net-framework-version': 73,\n",
              " '.net-gadgeteer': 12,\n",
              " '.net-install': 7,\n",
              " '.net-internals': 4,\n",
              " '.net-interview': 3,\n",
              " '.net-micro-framework': 103,\n",
              " '.net-reflector': 24,\n",
              " '.net-remoting': 126,\n",
              " '.net-security': 13,\n",
              " '.net-services': 11,\n",
              " '.net2.0': 5,\n",
              " '.net3.5': 35,\n",
              " '.net4.0': 33,\n",
              " '.netrc': 11,\n",
              " '.nettiers': 27,\n",
              " '.obj': 68,\n",
              " '.post': 102,\n",
              " '.procmailrc': 10,\n",
              " '.profile': 42,\n",
              " '.railsrc': 3,\n",
              " '.rdlc': 52,\n",
              " '.refresh': 7,\n",
              " '.sbr': 1,\n",
              " '.screenrc': 5,\n",
              " '.sdf': 11,\n",
              " '.sys': 1,\n",
              " '.vdproj': 3,\n",
              " '.war': 21,\n",
              " '.wav': 42,\n",
              " '.when': 3,\n",
              " '.x': 11,\n",
              " '10.8': 1,\n",
              " '1080p': 36,\n",
              " '10gbethernet': 55,\n",
              " '10gen-csharp-driver': 4,\n",
              " '10gige': 12,\n",
              " '110': 2,\n",
              " '11g': 6,\n",
              " '12.04': 1,\n",
              " '12.10': 3,\n",
              " '120hz': 3,\n",
              " '128bit': 14,\n",
              " '12factor': 2,\n",
              " '15': 2,\n",
              " '16-bit': 22,\n",
              " '16bit': 106,\n",
              " '1and1': 21,\n",
              " '1wire': 5,\n",
              " '2-3-4-tree': 14,\n",
              " '2-3-tree': 1,\n",
              " '2-digit-year': 6,\n",
              " '2-legged': 22,\n",
              " '2-satisfiability': 5,\n",
              " '2-tier': 6,\n",
              " '2-way-object-databinding': 20,\n",
              " '2.5d': 7,\n",
              " '200': 4,\n",
              " '2003': 22,\n",
              " '2007': 2019,\n",
              " '2010': 3665,\n",
              " '2013': 653,\n",
              " '21cfr11': 1,\n",
              " '24bit': 17,\n",
              " '24hour': 18,\n",
              " '256color': 5,\n",
              " '2checkout': 16,\n",
              " '2d': 1475,\n",
              " '2d-3d-conversion': 2,\n",
              " '2d-array': 369,\n",
              " '2d-context-api': 2,\n",
              " '2d-engine': 2,\n",
              " '2d-games': 87,\n",
              " '2d-vector': 3,\n",
              " '2phase-commit': 13,\n",
              " '2tb': 1,\n",
              " '2to3': 9,\n",
              " '2wire': 20,\n",
              " '3-tier': 137,\n",
              " '3-way-merge': 9,\n",
              " '3.0': 404,\n",
              " '3.0.1': 42,\n",
              " '3.0.3': 2,\n",
              " '3.1': 74,\n",
              " '3.5mm': 9,\n",
              " '301': 36,\n",
              " '301-redirect': 122,\n",
              " '32-bit': 427,\n",
              " '32-vs-64-bit': 15,\n",
              " '3270': 10,\n",
              " '32bit': 409,\n",
              " '32bit-64bit': 854,\n",
              " '32feet': 7,\n",
              " '35mm': 23,\n",
              " '360': 1,\n",
              " '360-degrees': 22,\n",
              " '37-signals': 18,\n",
              " '3750': 5,\n",
              " '389-ds': 29,\n",
              " '3com': 30,\n",
              " '3d': 4159,\n",
              " '3d-array': 19,\n",
              " '3d-engine': 25,\n",
              " '3d-flip': 1,\n",
              " '3d-graphics': 48,\n",
              " '3d-model': 28,\n",
              " '3d-modeling': 54,\n",
              " '3d-modelling': 62,\n",
              " '3d-multimedia': 8,\n",
              " '3d-ready': 2,\n",
              " '3d-reconstruction': 36,\n",
              " '3d-rendering': 10,\n",
              " '3d-secure': 9,\n",
              " '3d-studio': 4,\n",
              " '3d-texture': 3,\n",
              " '3d-vision': 15,\n",
              " '3dcamera': 3,\n",
              " '3delight': 1,\n",
              " '3des': 77,\n",
              " '3dmark': 2,\n",
              " '3ds': 42,\n",
              " '3ds-max': 30,\n",
              " '3dsmax': 118,\n",
              " '3g': 438,\n",
              " '3g-network': 24,\n",
              " '3gp': 66,\n",
              " '3nf': 35,\n",
              " '3rd-party': 55,\n",
              " '3rd-party-controls': 26,\n",
              " '3rd-party-library': 121,\n",
              " '3tb': 1,\n",
              " '3ware': 54,\n",
              " '400': 11,\n",
              " '401': 24,\n",
              " '403': 107,\n",
              " '404': 191,\n",
              " '404-error': 245,\n",
              " '404-image': 1,\n",
              " '443': 8,\n",
              " '4clojure': 11,\n",
              " '4d': 30,\n",
              " '4gl': 32,\n",
              " '4k': 2,\n",
              " '4k-sectors': 8,\n",
              " '4store': 8,\n",
              " '5.1': 30,\n",
              " '500': 17,\n",
              " '500-error': 114,\n",
              " '500-internal-error': 15,\n",
              " '500px': 3,\n",
              " '502': 5,\n",
              " '502-error': 24,\n",
              " '503': 1,\n",
              " '503-error': 44,\n",
              " '504': 11,\n",
              " '50mm': 26,\n",
              " '51degrees': 19,\n",
              " '580exii': 2,\n",
              " '64-bit': 1879,\n",
              " '64bit': 1883,\n",
              " '6502': 16,\n",
              " '6510': 2,\n",
              " '68000': 40,\n",
              " '68hc11': 6,\n",
              " '68hc12': 6,\n",
              " '6in4': 1,\n",
              " '6nf': 1,\n",
              " '6rd': 2,\n",
              " '6to4': 19,\n",
              " '7-zip': 228,\n",
              " '70-667': 11,\n",
              " '777': 9,\n",
              " '7bit': 10,\n",
              " '7z': 8,\n",
              " '7za': 4,\n",
              " '7zip': 226,\n",
              " '8-puzzle': 16,\n",
              " '802.11': 60,\n",
              " '802.11g': 20,\n",
              " '802.11n': 85,\n",
              " '802.1d': 3,\n",
              " '802.1q': 12,\n",
              " '802.1x': 57,\n",
              " '802.3ad': 1,\n",
              " '8051': 92,\n",
              " '8080': 8,\n",
              " '8085': 8,\n",
              " '8086': 189,\n",
              " '8087cw': 2,\n",
              " '8bit': 43,\n",
              " '9-11': 14,\n",
              " '9-bit-serial': 5,\n",
              " '960.gs': 185,\n",
              " '9p': 5,\n",
              " 'a-record': 101,\n",
              " 'a-records': 21,\n",
              " 'a-star': 203,\n",
              " 'a11y': 4,\n",
              " 'a2dp': 28,\n",
              " 'a4': 2,\n",
              " 'aaa': 5,\n",
              " 'aaa-security-protocol': 2,\n",
              " 'aaa-syntax': 4,\n",
              " 'aabb': 28,\n",
              " 'aac': 203,\n",
              " 'aac+': 7,\n",
              " 'aapt': 72,\n",
              " 'aardvark': 1,\n",
              " 'aasm': 22,\n",
              " 'ab': 28,\n",
              " 'ab-testing': 62,\n",
              " 'abaddressbook': 282,\n",
              " 'abaddressbooksource': 6,\n",
              " 'abandoned': 9,\n",
              " 'abandoned-memory': 4,\n",
              " 'abandonedmutexexception': 2,\n",
              " 'abandonware': 10,\n",
              " 'abap': 305,\n",
              " 'abbot': 1,\n",
              " 'abbr': 10,\n",
              " 'abbreviation': 41,\n",
              " 'abbyy': 16,\n",
              " 'abc': 31,\n",
              " 'abcl': 3,\n",
              " 'abcpdf': 114,\n",
              " 'abelian': 1,\n",
              " 'abelian-categories': 66,\n",
              " 'abelian-groups': 322,\n",
              " 'abelian-varieties': 16,\n",
              " 'aberration': 8,\n",
              " 'abi': 90,\n",
              " 'abinitio': 12,\n",
              " 'abiogenesis': 2,\n",
              " 'abiword': 4,\n",
              " 'ablecommerce': 3,\n",
              " 'ableton-live': 12,\n",
              " 'abmultivalue': 3,\n",
              " 'abort': 143,\n",
              " 'aborted': 4,\n",
              " 'abortion': 8,\n",
              " 'about-box': 21,\n",
              " 'about-config': 15,\n",
              " 'abpeoplepickerview': 57,\n",
              " 'abperson': 13,\n",
              " 'abpersonviewcontroller': 36,\n",
              " 'abrecord': 19,\n",
              " 'abrecordcopyvalue': 2,\n",
              " 'abrecordref': 22,\n",
              " 'absolute': 272,\n",
              " 'absolute-path': 194,\n",
              " 'absolute-positioning': 639,\n",
              " 'absolute-value': 150,\n",
              " 'absolutelayout': 47,\n",
              " 'abstract': 531,\n",
              " 'abstract-action': 7,\n",
              " 'abstract-algebra': 6628,\n",
              " 'abstract-base-class': 7,\n",
              " 'abstract-class': 1034,\n",
              " 'abstract-data-type': 61,\n",
              " 'abstract-factory': 48,\n",
              " 'abstract-factory-pattern': 6,\n",
              " 'abstract-function': 2,\n",
              " 'abstract-interpretation': 1,\n",
              " 'abstract-machine': 2,\n",
              " 'abstract-methods': 29,\n",
              " 'abstract-syntax-tree': 129,\n",
              " 'abstract-type': 25,\n",
              " 'abstraction': 370,\n",
              " 'abstracttablemodel': 77,\n",
              " 'abtest': 11,\n",
              " 'abuse': 27,\n",
              " 'ac-adapter': 27,\n",
              " 'ac3': 9,\n",
              " 'acaccount': 16,\n",
              " 'acaccountstore': 3,\n",
              " 'acc': 17,\n",
              " 'acceleo': 47,\n",
              " 'accelerate-framework': 61,\n",
              " 'accelerated-c++': 17,\n",
              " 'acceleration': 79,\n",
              " 'accelerator': 69,\n",
              " 'acceleratorkey': 5,\n",
              " 'accelerometer': 773,\n",
              " 'accent-insensitive': 4,\n",
              " 'accented-strings': 60,\n",
              " 'accents': 159,\n",
              " 'accept': 79,\n",
              " 'acceptance': 6,\n",
              " 'acceptance-testing': 161,\n",
              " 'acceptbutton': 14,\n",
              " 'acceptverbs': 5,\n",
              " 'access': 378,\n",
              " 'access-2003': 8,\n",
              " 'access-2007': 31,\n",
              " 'access-2010': 19,\n",
              " 'access-connections': 3,\n",
              " 'access-control': 350,\n",
              " 'access-control-lists': 1,\n",
              " 'access-data-project': 3,\n",
              " 'access-database-engine': 3,\n",
              " 'access-denied': 379,\n",
              " 'access-keys': 25,\n",
              " 'access-levels': 14,\n",
              " 'access-list': 23,\n",
              " 'access-log': 61,\n",
              " 'access-modifiers': 242,\n",
              " 'access-point': 166,\n",
              " 'access-protection': 5,\n",
              " 'access-rights': 42,\n",
              " 'access-rules': 6,\n",
              " 'access-services': 8,\n",
              " 'access-specifier': 79,\n",
              " 'access-synchronization': 1,\n",
              " 'access-token': 471,\n",
              " 'access-vba': 1030,\n",
              " 'access-violation': 411,\n",
              " 'access.log': 6,\n",
              " 'accesscontrolexception': 43,\n",
              " 'accesscontrolservice': 22,\n",
              " 'accessibility': 1122,\n",
              " 'accessibility-api': 22,\n",
              " 'accessibility-level': 1,\n",
              " 'accessibilityservice': 3,\n",
              " 'accessible': 10,\n",
              " 'accessor': 229,\n",
              " 'accessories': 47,\n",
              " 'accessorizer': 1,\n",
              " 'accessory': 47,\n",
              " 'accessorytype': 14,\n",
              " 'accessoryview': 33,\n",
              " 'accident': 3,\n",
              " 'accord.net': 6,\n",
              " 'accordion': 1012,\n",
              " 'accordionpane': 13,\n",
              " 'account': 387,\n",
              " 'account-lockout': 5,\n",
              " 'account-management': 62,\n",
              " 'account-restrictions': 22,\n",
              " 'accounting': 144,\n",
              " 'accountmanager': 155,\n",
              " 'accounts': 105,\n",
              " 'accpac': 8,\n",
              " 'accsupp': 6,\n",
              " 'accumulate': 30,\n",
              " 'accumulator': 38,\n",
              " 'accumulo': 8,\n",
              " 'accuracerdb': 1,\n",
              " 'accuracy': 53,\n",
              " 'accuracy-problems': 26,\n",
              " 'accurev': 55,\n",
              " 'acdsee': 2,\n",
              " 'ace': 111,\n",
              " 'ace-datatable': 2,\n",
              " 'ace-editor': 66,\n",
              " 'ace-tao': 3,\n",
              " 'acegi': 41,\n",
              " 'acensor': 1,\n",
              " 'acer': 2,\n",
              " 'acer-aspire': 166,\n",
              " 'acer-aspire-one': 44,\n",
              " 'acer-revo': 12,\n",
              " 'acer-travelmate': 7,\n",
              " 'achartengine': 365,\n",
              " 'achemso': 20,\n",
              " 'achievements': 104,\n",
              " 'acid': 66,\n",
              " 'acid-state': 4,\n",
              " 'acid3': 3,\n",
              " 'ack': 118,\n",
              " 'ackermann': 6,\n",
              " 'acl': 1137,\n",
              " 'acl9': 15,\n",
              " 'acm': 92,\n",
              " 'acm-api': 2,\n",
              " 'acm-icpc': 22,\n",
              " 'acm.graphics': 2,\n",
              " 'acne': 6,\n",
              " 'acoustics': 10,\n",
              " 'acpi': 156,\n",
              " 'acpid': 2,\n",
              " 'acquia': 11,\n",
              " 'acquisition': 10,\n",
              " 'acra': 63,\n",
              " 'acrobat': 370,\n",
              " 'acrobat-professional': 21,\n",
              " 'acrobat-sdk': 18,\n",
              " 'acrofields': 5,\n",
              " 'acronis': 52,\n",
              " 'acronis-trueimage': 37,\n",
              " 'acronym': 31,\n",
              " 'acronyms': 145,\n",
              " 'acropolis': 2,\n",
              " 'acrotex': 9,\n",
              " 'acs': 174,\n",
              " 'acs-serviceidentity': 1,\n",
              " 'act': 13,\n",
              " 'actas': 5,\n",
              " 'actinic': 4,\n",
              " 'action': 1478,\n",
              " 'action-caching': 10,\n",
              " 'action-center': 3,\n",
              " 'action-filter': 171,\n",
              " 'action-menu': 4,\n",
              " 'action-method': 7,\n",
              " 'actionbarcompat': 8,\n",
              " 'actionbarsherlock': 1302,\n",
              " 'actionbarsherlock-map': 13,\n",
              " 'actioncontroller': 112,\n",
              " 'actiondescriptor': 1,\n",
              " 'actiondispatch': 16,\n",
              " 'actionevent': 13,\n",
              " 'actionfilterattribute': 46,\n",
              " 'actionform': 19,\n",
              " 'actionlink': 231,\n",
              " 'actionlist': 6,\n",
              " 'actionlistener': 654,\n",
              " 'actionmailer': 684,\n",
              " 'actionmailer.net': 6,\n",
              " 'actionmethod': 44,\n",
              " 'actionmode': 7,\n",
              " 'actionpack': 24,\n",
              " 'actionresult': 119,\n",
              " 'actions': 201,\n",
              " 'actionscript': 5076,\n",
              " 'actionscript-1': 8,\n",
              " 'actionscript-2': 1155,\n",
              " 'actionscript-3': 19161,\n",
              " 'actionview': 190,\n",
              " 'actionviewhelper': 30,\n",
              " 'actionwebservice': 5,\n",
              " 'activate': 55,\n",
              " 'activated': 11,\n",
              " 'activation': 356,\n",
              " 'activation-codes': 9,\n",
              " 'activation-context-api': 3,\n",
              " 'activation-record': 5,\n",
              " 'activator': 97,\n",
              " 'active': 385,\n",
              " 'active-attr': 4,\n",
              " 'active-content': 2,\n",
              " 'active-directory': 7489,\n",
              " 'active-directory-explorer': 2,\n",
              " 'active-directory-group': 37,\n",
              " 'active-ftp': 3,\n",
              " 'active-memory': 2,\n",
              " 'active-model-serializers': 16,\n",
              " 'active-objects': 5,\n",
              " 'active-pattern': 15,\n",
              " 'active-record-query': 13,\n",
              " 'active-relation': 33,\n",
              " 'active-script': 4,\n",
              " 'active-shipping': 1,\n",
              " 'active-support': 15,\n",
              " 'active-users': 5,\n",
              " 'active-window': 17,\n",
              " 'activeadmin': 632,\n",
              " 'activeandroid': 9,\n",
              " 'activebatch': 1,\n",
              " 'activecollab': 14,\n",
              " 'activedirectory': 12,\n",
              " 'activedirectorymembership': 38,\n",
              " 'activejdbc': 5,\n",
              " 'activemerchant': 133,\n",
              " 'activemessaging': 6,\n",
              " 'activemodel': 175,\n",
              " 'activemq': 958,\n",
              " 'activemq-cpp': 20,\n",
              " 'activeobjects': 7,\n",
              " 'activeperl': 62,\n",
              " 'activepivot': 14,\n",
              " 'activepython': 31,\n",
              " 'activeqt': 6,\n",
              " 'activerecord': 7627,\n",
              " 'activerecord-import': 2,\n",
              " 'activerecord-jdbc': 9,\n",
              " 'activerecord-relation': 1,\n",
              " 'activerecordlinq': 3,\n",
              " 'activerelation': 10,\n",
              " 'activereports': 85,\n",
              " 'activeresource': 187,\n",
              " 'activescaffold': 79,\n",
              " 'activestate': 44,\n",
              " 'activesupport': 142,\n",
              " 'activesync': 233,\n",
              " 'activetcl': 7,\n",
              " 'activeview': 10,\n",
              " 'activex': 1687,\n",
              " 'activex-documents': 2,\n",
              " 'activex-exe': 10,\n",
              " 'activexobject': 119,\n",
              " 'activiti': 95,\n",
              " 'activity': 4368,\n",
              " 'activity-diagram': 28,\n",
              " 'activity-feed': 13,\n",
              " 'activity-finish': 74,\n",
              " 'activity-indicator': 37,\n",
              " 'activity-lifecycle': 97,\n",
              " 'activity-manager': 6,\n",
              " 'activity-monitor': 19,\n",
              " 'activity-stack': 42,\n",
              " 'activity-state': 3,\n",
              " 'activitydesigner': 15,\n",
              " 'activitygroup': 135,\n",
              " 'activitynotfoundexception': 7,\n",
              " 'activityunittestcase': 5,\n",
              " 'actor': 425,\n",
              " 'actor-model': 20,\n",
              " 'acts-as-audited': 13,\n",
              " 'acts-as-commentable': 17,\n",
              " 'acts-as-ferret': 19,\n",
              " 'acts-as-list': 24,\n",
              " 'acts-as-nested-set': 6,\n",
              " 'acts-as-paranoid': 5,\n",
              " 'acts-as-shopping-cart': 1,\n",
              " 'acts-as-state-machine': 6,\n",
              " 'acts-as-taggable': 30,\n",
              " 'acts-as-taggable-on': 177,\n",
              " 'acts-as-taggable-on-ster': 6,\n",
              " 'acts-as-tree': 27,\n",
              " 'acts-as-versioned': 7,\n",
              " 'actual': 8,\n",
              " 'actuarial-science': 29,\n",
              " 'actuate': 3,\n",
              " 'acupressure': 1,\n",
              " 'acupuncture': 5,\n",
              " 'ad-account-creation-mode': 2,\n",
              " 'ad-certificate-services': 66,\n",
              " 'ad-hoc': 77,\n",
              " 'ad-hoc-distribution': 128,\n",
              " 'ad-hoc-network': 104,\n",
              " 'ad-hoc-sql': 2,\n",
              " 'ad-lds': 36,\n",
              " 'ad-management': 1,\n",
              " 'ada': 349,\n",
              " 'ada-compliance': 1,\n",
              " 'adaboost': 28,\n",
              " 'adam': 96,\n",
              " 'adaptec': 38,\n",
              " 'adapter': 1194,\n",
              " 'adapter-pattern': 7,\n",
              " 'adaption': 2,\n",
              " 'adaptive-compression': 3,\n",
              " 'adaptive-design': 5,\n",
              " 'adaptor': 13,\n",
              " 'adb': 862,\n",
              " 'adbannerview': 40,\n",
              " 'adblock': 121,\n",
              " 'adbwireless': 1,\n",
              " 'adc': 29,\n",
              " 'add': 898,\n",
              " 'add-action': 157,\n",
              " 'add-cap': 10,\n",
              " 'add-data': 1,\n",
              " 'add-editor-style': 6,\n",
              " 'add-feed': 9,\n",
              " 'add-filter': 84,\n",
              " 'add-help-tab': 1,\n",
              " 'add-image-size': 73,\n",
              " 'add-in': 1022,\n",
              " 'add-menu-page': 31,\n",
              " 'add-meta-box': 47,\n",
              " 'add-on': 272,\n",
              " 'add-options': 6,\n",
              " 'add-references-dialog': 8,\n",
              " 'add-rewrite-rule': 57,\n",
              " 'add-settings-field': 12,\n",
              " 'add-settings-section': 5,\n",
              " 'add-submenu-page': 12,\n",
              " 'add-theme-support': 16,\n",
              " 'add-type': 6,\n",
              " 'addattribute': 16,\n",
              " 'addcallback': 4,\n",
              " 'addchild': 117,\n",
              " 'addclass': 399,\n",
              " 'adddays': 3,\n",
              " 'added': 15,\n",
              " 'addeventlistener': 329,\n",
              " 'addhandler': 29,\n",
              " 'addiction': 12,\n",
              " 'adding': 152,\n",
              " 'addins': 4,\n",
              " 'addition': 187,\n",
              " 'additive-combinatorics': 29,\n",
              " 'addmodelerror': 6,\n",
              " 'addobserver': 19,\n",
              " 'addon': 10,\n",
              " 'addon-domain': 13,\n",
              " 'addons': 23,\n",
              " 'addr2line': 3,\n",
              " 'addrange': 12,\n",
              " 'addremoveprograms': 15,\n",
              " 'address': 610,\n",
              " 'address-bar': 132,\n",
              " 'address-book': 94,\n",
              " 'address-space': 18,\n",
              " 'address-space-exhaustion': 2,\n",
              " 'addressbar': 12,\n",
              " 'addressbook': 451,\n",
              " 'addressbookui': 22,\n",
              " 'addresses': 30,\n",
              " 'addressing': 26,\n",
              " 'addressing-mode': 7,\n",
              " 'addressof': 22,\n",
              " 'addslashes': 29,\n",
              " 'addsubview': 202,\n",
              " 'addthis': 195,\n",
              " 'adduser': 3,\n",
              " 'adf': 36,\n",
              " 'adf-faces': 13,\n",
              " 'adf-task-flow': 3,\n",
              " 'adfind': 1,\n",
              " 'adfs': 233,\n",
              " 'adfs2.0': 150,\n",
              " 'adfsv2': 2,\n",
              " 'adgroup': 5,\n",
              " 'adhearsion': 2,\n",
              " 'adhoc': 219,\n",
              " 'adhoc-network': 15,\n",
              " 'adhoc-queries': 12,\n",
              " 'adium': 30,\n",
              " 'adjacency-list': 104,\n",
              " 'adjacency-list-model': 7,\n",
              " 'adjacency-matrix': 56,\n",
              " 'adjoint': 56,\n",
              " 'adjustable': 7,\n",
              " 'adjustbox': 18,\n",
              " 'adjustment': 32,\n",
              " 'adk': 94,\n",
              " 'adldap': 12,\n",
              " 'adlds': 17,\n",
              " 'adler32': 10,\n",
              " 'adm2': 1,\n",
              " 'admanager': 4,\n",
              " 'admin': 1827,\n",
              " 'admin-bar': 79,\n",
              " 'admin-generator': 53,\n",
              " 'admin-init': 5,\n",
              " 'admin-interface': 7,\n",
              " 'admin-menu': 158,\n",
              " 'admin-pages': 1,\n",
              " 'admin-rights': 14,\n",
              " 'admin-routing': 2,\n",
              " 'admin-tools': 2,\n",
              " 'admin-ui': 3,\n",
              " 'adminhtml': 52,\n",
              " 'administration': 987,\n",
              " 'administration-console': 3,\n",
              " 'administrative': 3,\n",
              " 'administrator': 619,\n",
              " 'administrators': 3,\n",
              " 'adminstration': 2,\n",
              " 'admnistration': 1,\n",
              " 'admob': 1121,\n",
              " 'admt': 9,\n",
              " 'ado': 881,\n",
              " 'ado-net-dataservices': 34,\n",
              " 'ado.net': 3849,\n",
              " 'ado.net-entity-data-model': 231,\n",
              " 'adobe': 2371,\n",
              " 'adobe-acrobat': 257,\n",
              " 'adobe-after-effects': 21,\n",
              " 'adobe-air': 31,\n",
              " 'adobe-brackets': 1,\n",
              " 'adobe-bridge': 9,\n",
              " 'adobe-camera-raw': 16,\n",
              " 'adobe-captivate': 28,\n",
              " 'adobe-connect': 6,\n",
              " 'adobe-contribute': 4,\n",
              " 'adobe-creative-suite': 7,\n",
              " 'adobe-cs3': 8,\n",
              " 'adobe-cs4': 34,\n",
              " 'adobe-cs5': 68,\n",
              " 'adobe-cs6': 3,\n",
              " 'adobe-dreamweaver': 39,\n",
              " 'adobe-drive': 1,\n",
              " 'adobe-edge': 41,\n",
              " 'adobe-fireworks': 29,\n",
              " 'adobe-flash': 132,\n",
              " 'adobe-flash-cs3': 17,\n",
              " 'adobe-flash-cs5': 46,\n",
              " 'adobe-illustrator': 305,\n",
              " 'adobe-indesign': 97,\n",
              " 'adobe-javascript': 3,\n",
              " 'adobe-lightroom': 23,\n",
              " 'adobe-media-encoder': 7,\n",
              " 'adobe-photoshop': 678,\n",
              " 'adobe-premiere': 58,\n",
              " 'adobe-premiere-elements': 1,\n",
              " 'adobe-reader': 271,\n",
              " 'adobe-rgb': 5,\n",
              " 'adobe-scout': 1,\n",
              " 'adobe-stratus': 6,\n",
              " 'adoconnection': 13,\n",
              " 'adodb': 343,\n",
              " 'adodbapi': 13,\n",
              " 'adolf-hitler': 11,\n",
              " 'adomd.net': 33,\n",
              " 'adonetappender': 22,\n",
              " 'adoption': 16,\n",
              " 'adorner': 94,\n",
              " 'adornerdecorator': 10,\n",
              " 'adornerlayer': 18,\n",
              " 'adornment': 6,\n",
              " 'adox': 18,\n",
              " 'adp': 38,\n",
              " 'adpcm': 7,\n",
              " 'adplus': 29,\n",
              " 'adr': 2,\n",
              " 'adress': 6,\n",
              " 'adressof': 1,\n",
              " 'adrotator': 16,\n",
              " 'ads': 460,\n",
              " 'ads-api': 11,\n",
              " 'adsense': 418,\n",
              " 'adsense-for-search': 5,\n",
              " 'adserver': 31,\n",
              " 'adsi': 99,\n",
              " 'adsl': 227,\n",
              " 'adsl-router': 55,\n",
              " 'adsl2': 8,\n",
              " 'adsl2+': 16,\n",
              " 'adspygoogle': 1,\n",
              " 'adsutil.vbs': 2,\n",
              " 'adt': 751,\n",
              " 'adt-bundle': 1,\n",
              " 'adt-r22': 1,\n",
              " 'adtran': 6,\n",
              " 'adts': 10,\n",
              " 'aduc': 3,\n",
              " 'advanced-custom-fields': 95,\n",
              " 'advanced-format': 32,\n",
              " 'advanced-installer': 31,\n",
              " 'advanced-queuing': 22,\n",
              " 'advanced-search': 30,\n",
              " 'advanced-taxonomy-queries': 41,\n",
              " 'advanceddatagrid': 196,\n",
              " 'advancement': 2,\n",
              " 'advancements': 6,\n",
              " 'advantage-database-server': 140,\n",
              " 'advantages': 10,\n",
              " 'advapi32': 16,\n",
              " 'adventure': 6,\n",
              " 'adventureworks': 37,\n",
              " 'advertised-shortcut': 4,\n",
              " 'advertisement': 124,\n",
              " 'advertisement-server': 13,\n",
              " 'advertisements': 36,\n",
              " 'advertising': 375,\n",
              " 'advice': 219,\n",
              " 'advice-and-nonuniformity': 19,\n",
              " 'advice-request': 39,\n",
              " 'adview': 61,\n",
              " 'advocacy': 3,\n",
              " 'adw-launcher': 1,\n",
              " 'adware': 29,\n",
              " 'adwhirl': 167,\n",
              " 'adwords': 159,\n",
              " 'adwords-api-v201109': 6,\n",
              " 'aec': 21,\n",
              " 'aegis': 10,\n",
              " 'aerial-photography': 9,\n",
              " 'aero': 341,\n",
              " 'aero-glass': 31,\n",
              " 'aero-peek': 19,\n",
              " 'aero-snap': 19,\n",
              " 'aerodynamics': 1,\n",
              " 'aerofs': 3,\n",
              " 'aes': 1188,\n",
              " 'aes-gcm': 9,\n",
              " 'aes-ni': 1,\n",
              " 'aescryptoserviceprovider': 10,\n",
              " 'aeson': 17,\n",
              " 'aesthetics': 32,\n",
              " 'aether': 15,\n",
              " 'af-s': 3,\n",
              " 'afconvert': 5,\n",
              " 'affiliate': 86,\n",
              " 'affiliates': 13,\n",
              " 'affiliation': 11,\n",
              " 'affine-geometry': 83,\n",
              " 'affine-schemes': 5,\n",
              " 'affinetransform': 94,\n",
              " 'affinity': 92,\n",
              " 'affix': 4,\n",
              " 'afhttpclient': 2,\n",
              " 'afincrementalstore': 9,\n",
              " 'afjsonrequestoperation': 9,\n",
              " 'afloat': 5,\n",
              " 'afnetworking': 570,\n",
              " 'aforge': 137,\n",
              " 'afp': 118,\n",
              " 'africa': 7,\n",
              " 'afs': 12,\n",
              " 'after-create': 12,\n",
              " 'after-effects': 43,\n",
              " 'after-initialize': 1,\n",
              " 'after-save': 17,\n",
              " 'afterpage': 6,\n",
              " 'aftershot': 1,\n",
              " 'afterthought': 3,\n",
              " 'afx': 15,\n",
              " 'against': 21,\n",
              " 'agal': 18,\n",
              " 'agatha-rrsl': 4,\n",
              " 'agavi': 4,\n",
              " 'agda': 34,\n",
              " 'age': 73,\n",
              " 'agena': 1,\n",
              " 'agent': 208,\n",
              " 'agent-based-modeling': 18,\n",
              " 'agent-ransack': 7,\n",
              " 'agents': 26,\n",
              " 'agents-jade': 38,\n",
              " 'agfa': 1,\n",
              " 'agfx': 4,\n",
              " 'aggregate': 703,\n",
              " 'aggregate-functions': 839,\n",
              " 'aggregate-initialization': 4,\n",
              " 'aggregateexception': 3,\n",
              " 'aggregateroot': 73,\n",
              " 'aggregates': 19,\n",
              " 'aggregation': 371,\n",
              " 'aggregation-framework': 49,\n",
              " 'aggregator': 29,\n",
              " 'aggregators': 7,\n",
              " 'agi': 28,\n",
              " 'agile': 1220,\n",
              " 'agile-processes': 33,\n",
              " 'agile-project-management': 40,\n",
              " 'agile-tools': 1,\n",
              " 'agiletoolkit': 13,\n",
              " 'agility.js': 2,\n",
              " 'aging': 5,\n",
              " 'agp': 12,\n",
              " 'agpl': 45,\n",
              " 'agreggate': 11,\n",
              " 'agrep': 7,\n",
              " 'agriculture': 12,\n",
              " 'agsxmpp': 17,\n",
              " 'agvtool': 6,\n",
              " 'ahah': 33,\n",
              " 'ahci': 63,\n",
              " 'aho-corasick': 5,\n",
              " 'ai-challenge': 1,\n",
              " 'ai.artificial-intel': 52,\n",
              " 'aida': 4,\n",
              " 'aide': 7,\n",
              " 'aide-ide': 5,\n",
              " 'aidl': 148,\n",
              " 'aif': 12,\n",
              " 'aiff': 12,\n",
              " 'aik': 5,\n",
              " 'aim': 38,\n",
              " 'aiml': 27,\n",
              " 'aio': 37,\n",
              " 'aio-write': 6,\n",
              " 'air': 3904,\n",
              " 'air-android': 25,\n",
              " 'air-conditioning': 5,\n",
              " 'air-native-extension': 115,\n",
              " 'air2': 12,\n",
              " 'airbrake': 18,\n",
              " 'aircard': 3,\n",
              " 'aircrack-ng': 25,\n",
              " 'airfoil': 2,\n",
              " 'aironet': 18,\n",
              " 'airplane': 35,\n",
              " 'airplanes': 2,\n",
              " 'airplay': 152,\n",
              " 'airport': 156,\n",
              " 'airport-express': 37,\n",
              " 'airport-extreme': 63,\n",
              " 'airport-security': 2,\n",
              " 'airprint': 70,\n",
              " 'airshows': 5,\n",
              " 'airtunes': 5,\n",
              " 'ais': 3,\n",
              " 'aix': 709,\n",
              " 'ajax': 44829,\n",
              " 'ajax-control-tookit': 16,\n",
              " 'ajax-forms': 16,\n",
              " 'ajax-on-rails': 5,\n",
              " 'ajax-polling': 28,\n",
              " 'ajax-push': 24,\n",
              " 'ajax-request': 32,\n",
              " 'ajax-upload': 71,\n",
              " 'ajax.beginform': 62,\n",
              " 'ajax.net': 73,\n",
              " 'ajax.request': 10,\n",
              " 'ajax4jsf': 249,\n",
              " 'ajaxcomplete': 22,\n",
              " 'ajaxcontext': 3,\n",
              " 'ajaxcontroltoolkit': 1075,\n",
              " 'ajaxform': 105,\n",
              " 'ajaxhelper': 3,\n",
              " 'ajaxmin': 13,\n",
              " 'ajaxpro': 16,\n",
              " 'ajaxsetup': 48,\n",
              " 'ajaxstart': 23,\n",
              " 'ajaxtags': 2,\n",
              " 'ajaxtoolkit': 325,\n",
              " 'ajaxuploader': 8,\n",
              " 'ajdt': 17,\n",
              " 'ajp': 112,\n",
              " 'akamai': 49,\n",
              " 'akephalos': 3,\n",
              " 'akhet': 1,\n",
              " 'akismet': 15,\n",
              " 'akka': 561,\n",
              " 'akka-cluster': 2,\n",
              " 'akka-zeromq': 4,\n",
              " 'akonadi': 1,\n",
              " 'al.exe': 5,\n",
              " 'alac': 5,\n",
              " 'alarm': 392,\n",
              " 'alarm-clock': 5,\n",
              " 'alarmmanager': 676,\n",
              " 'alarms': 25,\n",
              " 'alasset': 95,\n",
              " 'alassetslibrary': 212,\n",
              " 'albacore': 20,\n",
              " 'albert-einstein': 7,\n",
              " 'albireo': 2,\n",
              " 'albpm': 3,\n",
              " 'album': 6,\n",
              " 'album-art': 18,\n",
              " 'albumart': 31,\n",
              " 'alcatel-ot': 6,\n",
              " 'alchemy': 57,\n",
              " 'alchemyapi': 11,\n",
              " 'alcohol': 45,\n",
              " 'alembic': 18,\n",
              " 'aleph': 1,\n",
              " 'alert': 1045,\n",
              " 'alertdialog': 693,\n",
              " 'alerting': 18,\n",
              " 'alerts': 178,\n",
              " 'alertview': 30,\n",
              " 'alex': 9,\n",
              " 'alexa': 27,\n",
              " 'alexander-of-macedon': 1,\n",
              " 'alfred': 5,\n",
              " 'alfresco': 571,\n",
              " 'alfresco-share': 51,\n",
              " 'algebra': 206,\n",
              " 'algebra-precalculus': 4144,\n",
              " 'algebraic-complexity': 25,\n",
              " 'algebraic-curves': 235,\n",
              " 'algebraic-data-type': 3,\n",
              " 'algebraic-data-types': 57,\n",
              " 'algebraic-geometry': 2697,\n",
              " 'algebraic-graph-theory': 45,\n",
              " 'algebraic-groups': 137,\n",
              " 'algebraic-k-theory': 15,\n",
              " 'algebraic-number-theory': 792,\n",
              " 'algebraic-systems': 5,\n",
              " 'algebraic-topology': 2011,\n",
              " 'algebras': 1,\n",
              " 'alglib': 14,\n",
              " 'algol': 5,\n",
              " ...}"
            ]
          },
          "metadata": {
            "tags": []
          },
          "execution_count": 57
        }
      ]
    },
    {
      "cell_type": "markdown",
      "metadata": {
        "id": "bjVw8XcE8S47",
        "colab_type": "text"
      },
      "source": [
        "converting freq_dict to dataframe"
      ]
    },
    {
      "cell_type": "code",
      "metadata": {
        "id": "Z58HrwVgpOh6",
        "colab_type": "code",
        "colab": {
          "base_uri": "https://localhost:8080/",
          "height": 326
        },
        "outputId": "a6a37142-4205-47a3-b198-be570dc9bd4d"
      },
      "source": [
        "tag_df = pd.DataFrame.from_dict(freq_dict)"
      ],
      "execution_count": 60,
      "outputs": [
        {
          "output_type": "error",
          "ename": "ValueError",
          "evalue": "ignored",
          "traceback": [
            "\u001b[0;31m---------------------------------------------------------------------------\u001b[0m",
            "\u001b[0;31mValueError\u001b[0m                                Traceback (most recent call last)",
            "\u001b[0;32m<ipython-input-60-ebf7cd680b5e>\u001b[0m in \u001b[0;36m<module>\u001b[0;34m()\u001b[0m\n\u001b[0;32m----> 1\u001b[0;31m \u001b[0mtag_df\u001b[0m \u001b[0;34m=\u001b[0m \u001b[0mpd\u001b[0m\u001b[0;34m.\u001b[0m\u001b[0mDataFrame\u001b[0m\u001b[0;34m.\u001b[0m\u001b[0mfrom_dict\u001b[0m\u001b[0;34m(\u001b[0m\u001b[0mfreq_dict\u001b[0m\u001b[0;34m)\u001b[0m\u001b[0;34m\u001b[0m\u001b[0;34m\u001b[0m\u001b[0m\n\u001b[0m",
            "\u001b[0;32m/usr/local/lib/python3.6/dist-packages/pandas/core/frame.py\u001b[0m in \u001b[0;36mfrom_dict\u001b[0;34m(cls, data, orient, dtype, columns)\u001b[0m\n\u001b[1;32m   1203\u001b[0m             \u001b[0;32mraise\u001b[0m \u001b[0mValueError\u001b[0m\u001b[0;34m(\u001b[0m\u001b[0;34m\"only recognize index or columns for orient\"\u001b[0m\u001b[0;34m)\u001b[0m\u001b[0;34m\u001b[0m\u001b[0;34m\u001b[0m\u001b[0m\n\u001b[1;32m   1204\u001b[0m \u001b[0;34m\u001b[0m\u001b[0m\n\u001b[0;32m-> 1205\u001b[0;31m         \u001b[0;32mreturn\u001b[0m \u001b[0mcls\u001b[0m\u001b[0;34m(\u001b[0m\u001b[0mdata\u001b[0m\u001b[0;34m,\u001b[0m \u001b[0mindex\u001b[0m\u001b[0;34m=\u001b[0m\u001b[0mindex\u001b[0m\u001b[0;34m,\u001b[0m \u001b[0mcolumns\u001b[0m\u001b[0;34m=\u001b[0m\u001b[0mcolumns\u001b[0m\u001b[0;34m,\u001b[0m \u001b[0mdtype\u001b[0m\u001b[0;34m=\u001b[0m\u001b[0mdtype\u001b[0m\u001b[0;34m)\u001b[0m\u001b[0;34m\u001b[0m\u001b[0;34m\u001b[0m\u001b[0m\n\u001b[0m\u001b[1;32m   1206\u001b[0m \u001b[0;34m\u001b[0m\u001b[0m\n\u001b[1;32m   1207\u001b[0m     \u001b[0;32mdef\u001b[0m \u001b[0mto_numpy\u001b[0m\u001b[0;34m(\u001b[0m\u001b[0mself\u001b[0m\u001b[0;34m,\u001b[0m \u001b[0mdtype\u001b[0m\u001b[0;34m=\u001b[0m\u001b[0;32mNone\u001b[0m\u001b[0;34m,\u001b[0m \u001b[0mcopy\u001b[0m\u001b[0;34m=\u001b[0m\u001b[0;32mFalse\u001b[0m\u001b[0;34m)\u001b[0m\u001b[0;34m:\u001b[0m\u001b[0;34m\u001b[0m\u001b[0;34m\u001b[0m\u001b[0m\n",
            "\u001b[0;32m/usr/local/lib/python3.6/dist-packages/pandas/core/frame.py\u001b[0m in \u001b[0;36m__init__\u001b[0;34m(self, data, index, columns, dtype, copy)\u001b[0m\n\u001b[1;32m    409\u001b[0m             )\n\u001b[1;32m    410\u001b[0m         \u001b[0;32melif\u001b[0m \u001b[0misinstance\u001b[0m\u001b[0;34m(\u001b[0m\u001b[0mdata\u001b[0m\u001b[0;34m,\u001b[0m \u001b[0mdict\u001b[0m\u001b[0;34m)\u001b[0m\u001b[0;34m:\u001b[0m\u001b[0;34m\u001b[0m\u001b[0;34m\u001b[0m\u001b[0m\n\u001b[0;32m--> 411\u001b[0;31m             \u001b[0mmgr\u001b[0m \u001b[0;34m=\u001b[0m \u001b[0minit_dict\u001b[0m\u001b[0;34m(\u001b[0m\u001b[0mdata\u001b[0m\u001b[0;34m,\u001b[0m \u001b[0mindex\u001b[0m\u001b[0;34m,\u001b[0m \u001b[0mcolumns\u001b[0m\u001b[0;34m,\u001b[0m \u001b[0mdtype\u001b[0m\u001b[0;34m=\u001b[0m\u001b[0mdtype\u001b[0m\u001b[0;34m)\u001b[0m\u001b[0;34m\u001b[0m\u001b[0;34m\u001b[0m\u001b[0m\n\u001b[0m\u001b[1;32m    412\u001b[0m         \u001b[0;32melif\u001b[0m \u001b[0misinstance\u001b[0m\u001b[0;34m(\u001b[0m\u001b[0mdata\u001b[0m\u001b[0;34m,\u001b[0m \u001b[0mma\u001b[0m\u001b[0;34m.\u001b[0m\u001b[0mMaskedArray\u001b[0m\u001b[0;34m)\u001b[0m\u001b[0;34m:\u001b[0m\u001b[0;34m\u001b[0m\u001b[0;34m\u001b[0m\u001b[0m\n\u001b[1;32m    413\u001b[0m             \u001b[0;32mimport\u001b[0m \u001b[0mnumpy\u001b[0m\u001b[0;34m.\u001b[0m\u001b[0mma\u001b[0m\u001b[0;34m.\u001b[0m\u001b[0mmrecords\u001b[0m \u001b[0;32mas\u001b[0m \u001b[0mmrecords\u001b[0m\u001b[0;34m\u001b[0m\u001b[0;34m\u001b[0m\u001b[0m\n",
            "\u001b[0;32m/usr/local/lib/python3.6/dist-packages/pandas/core/internals/construction.py\u001b[0m in \u001b[0;36minit_dict\u001b[0;34m(data, index, columns, dtype)\u001b[0m\n\u001b[1;32m    255\u001b[0m             \u001b[0marr\u001b[0m \u001b[0;32mif\u001b[0m \u001b[0;32mnot\u001b[0m \u001b[0mis_datetime64tz_dtype\u001b[0m\u001b[0;34m(\u001b[0m\u001b[0marr\u001b[0m\u001b[0;34m)\u001b[0m \u001b[0;32melse\u001b[0m \u001b[0marr\u001b[0m\u001b[0;34m.\u001b[0m\u001b[0mcopy\u001b[0m\u001b[0;34m(\u001b[0m\u001b[0;34m)\u001b[0m \u001b[0;32mfor\u001b[0m \u001b[0marr\u001b[0m \u001b[0;32min\u001b[0m \u001b[0marrays\u001b[0m\u001b[0;34m\u001b[0m\u001b[0;34m\u001b[0m\u001b[0m\n\u001b[1;32m    256\u001b[0m         ]\n\u001b[0;32m--> 257\u001b[0;31m     \u001b[0;32mreturn\u001b[0m \u001b[0marrays_to_mgr\u001b[0m\u001b[0;34m(\u001b[0m\u001b[0marrays\u001b[0m\u001b[0;34m,\u001b[0m \u001b[0mdata_names\u001b[0m\u001b[0;34m,\u001b[0m \u001b[0mindex\u001b[0m\u001b[0;34m,\u001b[0m \u001b[0mcolumns\u001b[0m\u001b[0;34m,\u001b[0m \u001b[0mdtype\u001b[0m\u001b[0;34m=\u001b[0m\u001b[0mdtype\u001b[0m\u001b[0;34m)\u001b[0m\u001b[0;34m\u001b[0m\u001b[0;34m\u001b[0m\u001b[0m\n\u001b[0m\u001b[1;32m    258\u001b[0m \u001b[0;34m\u001b[0m\u001b[0m\n\u001b[1;32m    259\u001b[0m \u001b[0;34m\u001b[0m\u001b[0m\n",
            "\u001b[0;32m/usr/local/lib/python3.6/dist-packages/pandas/core/internals/construction.py\u001b[0m in \u001b[0;36marrays_to_mgr\u001b[0;34m(arrays, arr_names, index, columns, dtype)\u001b[0m\n\u001b[1;32m     75\u001b[0m     \u001b[0;31m# figure out the index, if necessary\u001b[0m\u001b[0;34m\u001b[0m\u001b[0;34m\u001b[0m\u001b[0;34m\u001b[0m\u001b[0m\n\u001b[1;32m     76\u001b[0m     \u001b[0;32mif\u001b[0m \u001b[0mindex\u001b[0m \u001b[0;32mis\u001b[0m \u001b[0;32mNone\u001b[0m\u001b[0;34m:\u001b[0m\u001b[0;34m\u001b[0m\u001b[0;34m\u001b[0m\u001b[0m\n\u001b[0;32m---> 77\u001b[0;31m         \u001b[0mindex\u001b[0m \u001b[0;34m=\u001b[0m \u001b[0mextract_index\u001b[0m\u001b[0;34m(\u001b[0m\u001b[0marrays\u001b[0m\u001b[0;34m)\u001b[0m\u001b[0;34m\u001b[0m\u001b[0;34m\u001b[0m\u001b[0m\n\u001b[0m\u001b[1;32m     78\u001b[0m     \u001b[0;32melse\u001b[0m\u001b[0;34m:\u001b[0m\u001b[0;34m\u001b[0m\u001b[0;34m\u001b[0m\u001b[0m\n\u001b[1;32m     79\u001b[0m         \u001b[0mindex\u001b[0m \u001b[0;34m=\u001b[0m \u001b[0mensure_index\u001b[0m\u001b[0;34m(\u001b[0m\u001b[0mindex\u001b[0m\u001b[0;34m)\u001b[0m\u001b[0;34m\u001b[0m\u001b[0;34m\u001b[0m\u001b[0m\n",
            "\u001b[0;32m/usr/local/lib/python3.6/dist-packages/pandas/core/internals/construction.py\u001b[0m in \u001b[0;36mextract_index\u001b[0;34m(data)\u001b[0m\n\u001b[1;32m    356\u001b[0m \u001b[0;34m\u001b[0m\u001b[0m\n\u001b[1;32m    357\u001b[0m         \u001b[0;32mif\u001b[0m \u001b[0;32mnot\u001b[0m \u001b[0mindexes\u001b[0m \u001b[0;32mand\u001b[0m \u001b[0;32mnot\u001b[0m \u001b[0mraw_lengths\u001b[0m\u001b[0;34m:\u001b[0m\u001b[0;34m\u001b[0m\u001b[0;34m\u001b[0m\u001b[0m\n\u001b[0;32m--> 358\u001b[0;31m             \u001b[0;32mraise\u001b[0m \u001b[0mValueError\u001b[0m\u001b[0;34m(\u001b[0m\u001b[0;34m\"If using all scalar values, you must pass an index\"\u001b[0m\u001b[0;34m)\u001b[0m\u001b[0;34m\u001b[0m\u001b[0;34m\u001b[0m\u001b[0m\n\u001b[0m\u001b[1;32m    359\u001b[0m \u001b[0;34m\u001b[0m\u001b[0m\n\u001b[1;32m    360\u001b[0m         \u001b[0;32mif\u001b[0m \u001b[0mhave_series\u001b[0m\u001b[0;34m:\u001b[0m\u001b[0;34m\u001b[0m\u001b[0;34m\u001b[0m\u001b[0m\n",
            "\u001b[0;31mValueError\u001b[0m: If using all scalar values, you must pass an index"
          ]
        }
      ]
    },
    {
      "cell_type": "code",
      "metadata": {
        "id": "lSOmnqNorGoi",
        "colab_type": "code",
        "colab": {}
      },
      "source": [
        "|"
      ],
      "execution_count": 0,
      "outputs": []
    }
  ]
}
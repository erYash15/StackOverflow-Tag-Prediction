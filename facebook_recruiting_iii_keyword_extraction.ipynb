{
  "nbformat": 4,
  "nbformat_minor": 0,
  "metadata": {
    "colab": {
      "name": "facebook-recruiting-iii-keyword-extraction.ipynb",
      "provenance": [],
      "collapsed_sections": [],
      "toc_visible": true,
      "machine_shape": "hm",
      "authorship_tag": "ABX9TyOJ8eI/+eDFDYccVBVUOxTA",
      "include_colab_link": true
    },
    "kernelspec": {
      "name": "python3",
      "display_name": "Python 3"
    }
  },
  "cells": [
    {
      "cell_type": "markdown",
      "metadata": {
        "id": "view-in-github",
        "colab_type": "text"
      },
      "source": [
        "<a href=\"https://colab.research.google.com/github/erYash15/StackOverflow-Tag-Prediction/blob/master/facebook_recruiting_iii_keyword_extraction.ipynb\" target=\"_parent\"><img src=\"https://colab.research.google.com/assets/colab-badge.svg\" alt=\"Open In Colab\"/></a>"
      ]
    },
    {
      "cell_type": "markdown",
      "metadata": {
        "id": "vgyilM6HKsLi",
        "colab_type": "text"
      },
      "source": [
        "Mounting the google drive to Google colab Notebook"
      ]
    },
    {
      "cell_type": "code",
      "metadata": {
        "id": "tDE_if7y-_jV",
        "colab_type": "code",
        "colab": {
          "base_uri": "https://localhost:8080/",
          "height": 118
        },
        "outputId": "8454cdab-f606-45bf-e931-e168f93537ef"
      },
      "source": [
        "from google.colab import drive\n",
        "drive.mount('/content/gdrive')"
      ],
      "execution_count": 1,
      "outputs": [
        {
          "output_type": "stream",
          "text": [
            "Go to this URL in a browser: https://accounts.google.com/o/oauth2/auth?client_id=947318989803-6bn6qk8qdgf4n4g3pfee6491hc0brc4i.apps.googleusercontent.com&redirect_uri=urn%3aietf%3awg%3aoauth%3a2.0%3aoob&response_type=code&scope=email%20https%3a%2f%2fwww.googleapis.com%2fauth%2fdocs.test%20https%3a%2f%2fwww.googleapis.com%2fauth%2fdrive%20https%3a%2f%2fwww.googleapis.com%2fauth%2fdrive.photos.readonly%20https%3a%2f%2fwww.googleapis.com%2fauth%2fpeopleapi.readonly\n",
            "\n",
            "Enter your authorization code:\n",
            "··········\n",
            "Mounted at /content/gdrive\n"
          ],
          "name": "stdout"
        }
      ]
    },
    {
      "cell_type": "markdown",
      "metadata": {
        "id": "w8ITbSCyM77b",
        "colab_type": "text"
      },
      "source": [
        "**Step 1** — Get the API key from your account\n",
        "Visit www.kaggle.com ⇨ login ⇨ My Account ⇨ Create New API Token\n",
        "The “kaggle.json” file will be auto downloaded.\n",
        "\n",
        "**Step 2** — Upload the kaggle.json file\n",
        "Use these code snippets in Google Colab for the task:"
      ]
    },
    {
      "cell_type": "code",
      "metadata": {
        "id": "yJmN8bc0_uXH",
        "colab_type": "code",
        "outputId": "9f512631-4ac7-4658-9a2d-cc93c832cb3b",
        "colab": {
          "resources": {
            "http://localhost:8080/nbextensions/google.colab/files.js": {
              "data": "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",
              "ok": true,
              "headers": [
                [
                  "content-type",
                  "application/javascript"
                ]
              ],
              "status": 200,
              "status_text": ""
            }
          },
          "base_uri": "https://localhost:8080/",
          "height": 111
        }
      },
      "source": [
        "from google.colab import files\n",
        "files.upload()  #this will prompt you to upload the kaggle.json"
      ],
      "execution_count": 0,
      "outputs": [
        {
          "output_type": "display_data",
          "data": {
            "text/html": [
              "\n",
              "     <input type=\"file\" id=\"files-668f0f2e-aeb5-44d6-bbdd-d9c67be05ec0\" name=\"files[]\" multiple disabled />\n",
              "     <output id=\"result-668f0f2e-aeb5-44d6-bbdd-d9c67be05ec0\">\n",
              "      Upload widget is only available when the cell has been executed in the\n",
              "      current browser session. Please rerun this cell to enable.\n",
              "      </output>\n",
              "      <script src=\"/nbextensions/google.colab/files.js\"></script> "
            ],
            "text/plain": [
              "<IPython.core.display.HTML object>"
            ]
          },
          "metadata": {
            "tags": []
          }
        },
        {
          "output_type": "stream",
          "text": [
            "Saving kaggle.json to kaggle.json\n"
          ],
          "name": "stdout"
        },
        {
          "output_type": "execute_result",
          "data": {
            "text/plain": [
              "{'kaggle.json': b'{\"username\":\"eryash15\",\"key\":\"4d3c754d226d7fba028ded4615217df0\"}'}"
            ]
          },
          "metadata": {
            "tags": []
          },
          "execution_count": 23
        }
      ]
    },
    {
      "cell_type": "markdown",
      "metadata": {
        "id": "7dByzJ_6NXW8",
        "colab_type": "text"
      },
      "source": [
        "The below will create the necessary folder path."
      ]
    },
    {
      "cell_type": "code",
      "metadata": {
        "id": "MbNwyhwd_4UV",
        "colab_type": "code",
        "outputId": "d519a33a-d84c-43c6-f16b-9784d5bcf5f3",
        "colab": {
          "base_uri": "https://localhost:8080/",
          "height": 34
        }
      },
      "source": [
        "!pip install -q kaggle\n",
        "!mkdir -p ~/.kaggle\n",
        "!cp kaggle.json ~/.kaggle/\n",
        "!ls ~/.kaggle\n",
        "!chmod 600 /root/.kaggle/kaggle.json  # set permission"
      ],
      "execution_count": 0,
      "outputs": [
        {
          "output_type": "stream",
          "text": [
            "kaggle.json\n"
          ],
          "name": "stdout"
        }
      ]
    },
    {
      "cell_type": "markdown",
      "metadata": {
        "id": "d7sGuZETPD9r",
        "colab_type": "text"
      },
      "source": [
        "**Step 3** — Download the required dataset\n",
        "Simply download the required dataset with the syntax:"
      ]
    },
    {
      "cell_type": "code",
      "metadata": {
        "id": "hZw1RhbECMT2",
        "colab_type": "code",
        "outputId": "237c9ffd-3159-47d4-f1bd-e84a9ee2d80f",
        "colab": {
          "base_uri": "https://localhost:8080/",
          "height": 207
        }
      },
      "source": [
        "!kaggle competitions download -c facebook-recruiting-iii-keyword-extraction -p /content/gdrive/My\\ Drive/kaggle"
      ],
      "execution_count": 0,
      "outputs": [
        {
          "output_type": "stream",
          "text": [
            "Warning: Looks like you're using an outdated API Version, please consider updating (server 1.5.6 / client 1.5.4)\n",
            "Downloading Train.zip to /content/gdrive/My Drive/kaggle\n",
            "100% 2.18G/2.19G [00:27<00:00, 98.0MB/s]\n",
            "100% 2.19G/2.19G [00:27<00:00, 84.3MB/s]\n",
            "Downloading SampleSubmission.csv.zip to /content/gdrive/My Drive/kaggle\n",
            "100% 4.81M/4.81M [00:00<00:00, 41.5MB/s]\n",
            "\n",
            "Downloading Test.zip to /content/gdrive/My Drive/kaggle\n",
            " 99% 718M/725M [00:09<00:00, 86.0MB/s]\n",
            "100% 725M/725M [00:09<00:00, 83.1MB/s]\n"
          ],
          "name": "stdout"
        }
      ]
    },
    {
      "cell_type": "markdown",
      "metadata": {
        "id": "Se3folSNPMAE",
        "colab_type": "text"
      },
      "source": [
        "**Step 4** — Unzip\n",
        "\n",
        "*For dataset with multiple zip files like the example, I tend to change directory to the designated folder and unzip them one by one.*\n",
        "\n",
        "!unzip -q file[.zip] -d [exdir]\n",
        "\n",
        "-q suppress the printing of the file names being extracted\n",
        "\n",
        "-d [exdir] optional directory to which to extract files *italicized text*"
      ]
    },
    {
      "cell_type": "code",
      "metadata": {
        "id": "HmvaHqqbAOt2",
        "colab_type": "code",
        "outputId": "ce8c6e96-7e80-44ac-adfe-bcb11f8bd407",
        "colab": {
          "base_uri": "https://localhost:8080/",
          "height": 119
        }
      },
      "source": [
        "import os\n",
        "os.chdir('/content/gdrive/My Drive/kaggle')  #change dir\n",
        "!unzip Train.zip  #unzip data\n",
        "!unzip Test.zip  #unzip data\n",
        "!unzip SampleSubmission.csv.zip"
      ],
      "execution_count": 0,
      "outputs": [
        {
          "output_type": "stream",
          "text": [
            "Archive:  Train.zip\n",
            "  inflating: Train.csv               \n",
            "Archive:  Test.zip\n",
            "  inflating: Test.csv                \n",
            "Archive:  SampleSubmission.csv.zip\n",
            "  inflating: SampleSubmission.csv    \n"
          ],
          "name": "stdout"
        }
      ]
    },
    {
      "cell_type": "markdown",
      "metadata": {
        "id": "9fkjYgZwRG6O",
        "colab_type": "text"
      },
      "source": [
        "### **Import Libraries**"
      ]
    },
    {
      "cell_type": "code",
      "metadata": {
        "id": "4qV9y6RcREXN",
        "colab_type": "code",
        "colab": {}
      },
      "source": [
        "%matplotlib inline\n",
        "\n",
        "# Basic System Libraries\n",
        "import os\n",
        "import datetime\n",
        "import csv\n",
        "import math\n",
        "from tqdm import tqdm\n",
        "import pickle\n",
        "\n",
        "\n",
        "# Data Manipulation Libraries\n",
        "import pandas as pd\n",
        "import numpy as np\n",
        "\n",
        "\n",
        "# Data Ploting Libraries\n",
        "import matplotlib.pyplot as plt\n",
        "import seaborn as sns\n",
        "\n",
        "\n",
        "\n",
        "# Natural Language Processing Libraries\n",
        "from sklearn.feature_extraction.text import CountVectorizer,TfidfVectorizer\n",
        "from wordcloud import WordCloud\n",
        "import re\n",
        "import nltk\n",
        "from nltk.corpus import stopwords\n",
        "from nltk.tokenize import word_tokenize\n",
        "from nltk.stem.snowball import SnowballStemmer\n",
        "\n",
        "\n",
        "# Machine Learning Libraries\n",
        "from sklearn.model_selection import train_test_split\n"
      ],
      "execution_count": 0,
      "outputs": []
    },
    {
      "cell_type": "markdown",
      "metadata": {
        "id": "L1WCHsXCT0l2",
        "colab_type": "text"
      },
      "source": [
        "## **Data Cleaning** - Stage 1"
      ]
    },
    {
      "cell_type": "code",
      "metadata": {
        "id": "0nameQ68Amu-",
        "colab_type": "code",
        "colab": {}
      },
      "source": [
        "train_df = pd.read_csv('/content/gdrive/My Drive/kaggle/Train.csv')"
      ],
      "execution_count": 0,
      "outputs": []
    },
    {
      "cell_type": "code",
      "metadata": {
        "id": "5ZX58RMxKpQF",
        "colab_type": "code",
        "outputId": "31ba8dcf-e07f-44fc-ebdc-b4c6c1440dab",
        "colab": {
          "base_uri": "https://localhost:8080/",
          "height": 34
        }
      },
      "source": [
        "print(\"Length of Raw input Train data\", len(train_df))"
      ],
      "execution_count": 0,
      "outputs": [
        {
          "output_type": "stream",
          "text": [
            "Length of Raw input Train data 6034195\n"
          ],
          "name": "stdout"
        }
      ]
    },
    {
      "cell_type": "code",
      "metadata": {
        "id": "0ZrMnqTTVRaJ",
        "colab_type": "code",
        "outputId": "a8a4b9c4-d117-4626-8a7e-9382a7142588",
        "colab": {
          "base_uri": "https://localhost:8080/",
          "height": 85
        }
      },
      "source": [
        "#Null Data Field\n",
        "for c in train_df.columns:   \n",
        "    print(\"Number of Null Cells in ---\",c,\"----are \",train_df[c].isnull().sum())"
      ],
      "execution_count": 0,
      "outputs": [
        {
          "output_type": "stream",
          "text": [
            "Number of Null Cells in --- Id ----are  0\n",
            "Number of Null Cells in --- Title ----are  0\n",
            "Number of Null Cells in --- Body ----are  0\n",
            "Number of Null Cells in --- Tags ----are  8\n"
          ],
          "name": "stdout"
        }
      ]
    },
    {
      "cell_type": "code",
      "metadata": {
        "id": "er0mB-wLTgBX",
        "colab_type": "code",
        "colab": {}
      },
      "source": [
        "#Remove Duplicates and field with Null Values\n",
        "train_df.drop_duplicates(subset = ['Title','Body','Tags'], keep = 'first', inplace = True)\n",
        "train_df.dropna(axis = 'index', how =  'any', inplace = True)"
      ],
      "execution_count": 0,
      "outputs": []
    },
    {
      "cell_type": "code",
      "metadata": {
        "id": "r4hIjl6nUCUE",
        "colab_type": "code",
        "outputId": "4e8e7027-9c91-40c5-8723-8898f1cdb061",
        "colab": {
          "base_uri": "https://localhost:8080/",
          "height": 34
        }
      },
      "source": [
        "print(\"Length of Raw input Train data\", len(train_df))"
      ],
      "execution_count": 0,
      "outputs": [
        {
          "output_type": "stream",
          "text": [
            "Length of Raw input Train data 4206307\n"
          ],
          "name": "stdout"
        }
      ]
    },
    {
      "cell_type": "markdown",
      "metadata": {
        "id": "NymlULI9WF1M",
        "colab_type": "text"
      },
      "source": [
        "Add tag_count coloumn in train_df"
      ]
    },
    {
      "cell_type": "code",
      "metadata": {
        "id": "KCrfN3-NV6pb",
        "colab_type": "code",
        "colab": {}
      },
      "source": [
        "tags_count = []\n",
        "for tags in train_df.Tags:\n",
        "    tags_count.append(len(tags.split(\" \")))\n",
        "train_df['Tags_count'] = tags_count\n",
        "del tags_count "
      ],
      "execution_count": 0,
      "outputs": []
    },
    {
      "cell_type": "code",
      "metadata": {
        "id": "DyGaEtlmWNRG",
        "colab_type": "code",
        "outputId": "bbaf3cf9-2318-409a-8427-3f86d2535a6d",
        "colab": {
          "base_uri": "https://localhost:8080/",
          "height": 374
        }
      },
      "source": [
        "train_df.head()"
      ],
      "execution_count": 0,
      "outputs": [
        {
          "output_type": "execute_result",
          "data": {
            "text/html": [
              "<div>\n",
              "<style scoped>\n",
              "    .dataframe tbody tr th:only-of-type {\n",
              "        vertical-align: middle;\n",
              "    }\n",
              "\n",
              "    .dataframe tbody tr th {\n",
              "        vertical-align: top;\n",
              "    }\n",
              "\n",
              "    .dataframe thead th {\n",
              "        text-align: right;\n",
              "    }\n",
              "</style>\n",
              "<table border=\"1\" class=\"dataframe\">\n",
              "  <thead>\n",
              "    <tr style=\"text-align: right;\">\n",
              "      <th></th>\n",
              "      <th>Id</th>\n",
              "      <th>Title</th>\n",
              "      <th>Body</th>\n",
              "      <th>Tags</th>\n",
              "      <th>Tags_count</th>\n",
              "    </tr>\n",
              "  </thead>\n",
              "  <tbody>\n",
              "    <tr>\n",
              "      <th>0</th>\n",
              "      <td>1</td>\n",
              "      <td>How to check if an uploaded file is an image w...</td>\n",
              "      <td>&lt;p&gt;I'd like to check if an uploaded file is an...</td>\n",
              "      <td>php image-processing file-upload upload mime-t...</td>\n",
              "      <td>5</td>\n",
              "    </tr>\n",
              "    <tr>\n",
              "      <th>1</th>\n",
              "      <td>2</td>\n",
              "      <td>How can I prevent firefox from closing when I ...</td>\n",
              "      <td>&lt;p&gt;In my favorite editor (vim), I regularly us...</td>\n",
              "      <td>firefox</td>\n",
              "      <td>1</td>\n",
              "    </tr>\n",
              "    <tr>\n",
              "      <th>2</th>\n",
              "      <td>3</td>\n",
              "      <td>R Error Invalid type (list) for variable</td>\n",
              "      <td>&lt;p&gt;I am import matlab file and construct a dat...</td>\n",
              "      <td>r matlab machine-learning</td>\n",
              "      <td>3</td>\n",
              "    </tr>\n",
              "    <tr>\n",
              "      <th>3</th>\n",
              "      <td>4</td>\n",
              "      <td>How do I replace special characters in a URL?</td>\n",
              "      <td>&lt;p&gt;This is probably very simple, but I simply ...</td>\n",
              "      <td>c# url encoding</td>\n",
              "      <td>3</td>\n",
              "    </tr>\n",
              "    <tr>\n",
              "      <th>4</th>\n",
              "      <td>5</td>\n",
              "      <td>How to modify whois contact details?</td>\n",
              "      <td>&lt;pre&gt;&lt;code&gt;function modify(.......)\\n{\\n  $mco...</td>\n",
              "      <td>php api file-get-contents</td>\n",
              "      <td>3</td>\n",
              "    </tr>\n",
              "  </tbody>\n",
              "</table>\n",
              "</div>"
            ],
            "text/plain": [
              "   Id  ... Tags_count\n",
              "0   1  ...          5\n",
              "1   2  ...          1\n",
              "2   3  ...          3\n",
              "3   4  ...          3\n",
              "4   5  ...          3\n",
              "\n",
              "[5 rows x 5 columns]"
            ]
          },
          "metadata": {
            "tags": []
          },
          "execution_count": 9
        }
      ]
    },
    {
      "cell_type": "markdown",
      "metadata": {
        "id": "ooTCwUQ-Yubu",
        "colab_type": "text"
      },
      "source": [
        "Saving the train_df file in Google Drive."
      ]
    },
    {
      "cell_type": "code",
      "metadata": {
        "id": "w11_k2hsW-oH",
        "colab_type": "code",
        "outputId": "61aa019d-8cff-4a1b-897e-50d8b01ac807",
        "colab": {
          "base_uri": "https://localhost:8080/",
          "height": 34
        }
      },
      "source": [
        "train_df.to_csv(\"/content/gdrive/My Drive/kaggle/train_df.csv\")\n",
        "print(\"train_df saved to google drive.\")"
      ],
      "execution_count": 0,
      "outputs": [
        {
          "output_type": "stream",
          "text": [
            "train_df saved to google drive.\n"
          ],
          "name": "stdout"
        }
      ]
    },
    {
      "cell_type": "markdown",
      "metadata": {
        "id": "vBqF77HymFEb",
        "colab_type": "text"
      },
      "source": [
        "Reading the train_df file from Google Drive."
      ]
    },
    {
      "cell_type": "code",
      "metadata": {
        "id": "ZYjQo5a4mEbV",
        "colab_type": "code",
        "colab": {}
      },
      "source": [
        "train_df = pd.read_csv(\"/content/gdrive/My Drive/kaggle/train_df.csv\")"
      ],
      "execution_count": 0,
      "outputs": []
    },
    {
      "cell_type": "markdown",
      "metadata": {
        "id": "6idesDqBY3cP",
        "colab_type": "text"
      },
      "source": [
        "## **Analysis of Tags**"
      ]
    },
    {
      "cell_type": "code",
      "metadata": {
        "id": "1IyQQbIbYUzC",
        "colab_type": "code",
        "colab": {}
      },
      "source": [
        "#making spare matrix of tags\n",
        "cv = CountVectorizer(tokenizer = lambda x: x.split()) \n",
        "# if we don't use tokenizer only numeric and albhabet will ignore .-, etc.\n",
        "# and igonre the word with 1 letter.\n",
        "tag_mtx = cv.fit_transform(train_df['Tags'])"
      ],
      "execution_count": 0,
      "outputs": []
    },
    {
      "cell_type": "code",
      "metadata": {
        "id": "6cHQ5E1IjaHF",
        "colab_type": "code",
        "outputId": "6dd831b3-10a7-40f3-d832-f7f9ea75cd28",
        "colab": {
          "base_uri": "https://localhost:8080/",
          "height": 51
        }
      },
      "source": [
        "print(\"Number of data points :\", tag_mtx.shape[0])#rows\n",
        "print(\"Number of unique tags :\", tag_mtx.shape[1])#columns"
      ],
      "execution_count": 0,
      "outputs": [
        {
          "output_type": "stream",
          "text": [
            "Number of data points : 4206307\n",
            "Number of unique tags : 42048\n"
          ],
          "name": "stdout"
        }
      ]
    },
    {
      "cell_type": "markdown",
      "metadata": {
        "id": "H7FRh9Hn4j5s",
        "colab_type": "text"
      },
      "source": [
        "freq_dict contains all the tags and its frequency."
      ]
    },
    {
      "cell_type": "code",
      "metadata": {
        "id": "xYLOnv6vlD_A",
        "colab_type": "code",
        "colab": {}
      },
      "source": [
        "all_unique_tags = cv.get_feature_names()\n",
        "freq = tag_mtx.sum(axis = 0).A1\n",
        "#.A1 convert everyting to 1-D\n",
        "freq_dict = dict(zip(all_unique_tags,freq))"
      ],
      "execution_count": 0,
      "outputs": []
    },
    {
      "cell_type": "markdown",
      "metadata": {
        "id": "o8lJ77ug_MIJ",
        "colab_type": "text"
      },
      "source": [
        "Saving freq_dict in Google Drive and then converting it to pandas dataframe because for converting dictionary directly to pandas dataframe we have to convert values in list form and to avoid we first create .csv file. "
      ]
    },
    {
      "cell_type": "code",
      "metadata": {
        "id": "kQbY5SOM_LqE",
        "colab_type": "code",
        "outputId": "17a695c9-5fe0-47bb-9cab-059e8b7717c5",
        "colab": {
          "base_uri": "https://localhost:8080/",
          "height": 204
        }
      },
      "source": [
        "#Saving this dictionary to csv files.\n",
        "with open('/content/gdrive/My Drive/kaggle/tag_freq_dict.csv', 'w') as csv_file:\n",
        "    writer = csv.writer(csv_file)\n",
        "    for key, value in freq_dict.items():\n",
        "        writer.writerow([key, value])"
      ],
      "execution_count": 0,
      "outputs": [
        {
          "output_type": "execute_result",
          "data": {
            "text/html": [
              "<div>\n",
              "<style scoped>\n",
              "    .dataframe tbody tr th:only-of-type {\n",
              "        vertical-align: middle;\n",
              "    }\n",
              "\n",
              "    .dataframe tbody tr th {\n",
              "        vertical-align: top;\n",
              "    }\n",
              "\n",
              "    .dataframe thead th {\n",
              "        text-align: right;\n",
              "    }\n",
              "</style>\n",
              "<table border=\"1\" class=\"dataframe\">\n",
              "  <thead>\n",
              "    <tr style=\"text-align: right;\">\n",
              "      <th></th>\n",
              "      <th>Tags</th>\n",
              "      <th>Counts</th>\n",
              "    </tr>\n",
              "  </thead>\n",
              "  <tbody>\n",
              "    <tr>\n",
              "      <th>0</th>\n",
              "      <td>.a</td>\n",
              "      <td>18</td>\n",
              "    </tr>\n",
              "    <tr>\n",
              "      <th>1</th>\n",
              "      <td>.app</td>\n",
              "      <td>37</td>\n",
              "    </tr>\n",
              "    <tr>\n",
              "      <th>2</th>\n",
              "      <td>.asp.net-mvc</td>\n",
              "      <td>1</td>\n",
              "    </tr>\n",
              "    <tr>\n",
              "      <th>3</th>\n",
              "      <td>.aspxauth</td>\n",
              "      <td>21</td>\n",
              "    </tr>\n",
              "    <tr>\n",
              "      <th>4</th>\n",
              "      <td>.bash-profile</td>\n",
              "      <td>138</td>\n",
              "    </tr>\n",
              "  </tbody>\n",
              "</table>\n",
              "</div>"
            ],
            "text/plain": [
              "            Tags  Counts\n",
              "0             .a      18\n",
              "1           .app      37\n",
              "2   .asp.net-mvc       1\n",
              "3      .aspxauth      21\n",
              "4  .bash-profile     138"
            ]
          },
          "metadata": {
            "tags": []
          },
          "execution_count": 67
        }
      ]
    },
    {
      "cell_type": "markdown",
      "metadata": {
        "id": "BnVFUATfUrSx",
        "colab_type": "text"
      },
      "source": [
        "Reading only the tag_df file"
      ]
    },
    {
      "cell_type": "code",
      "metadata": {
        "id": "J709iAZBQSmd",
        "colab_type": "code",
        "outputId": "3218d5e8-54ad-47d0-b7ce-0f22f225ca65",
        "colab": {
          "base_uri": "https://localhost:8080/",
          "height": 191
        }
      },
      "source": [
        "tag_df = pd.read_csv('/content/gdrive/My Drive/kaggle/tag_freq_dict.csv', names=['Tags', 'Counts'])\n",
        "tag_df.head()"
      ],
      "execution_count": 0,
      "outputs": [
        {
          "output_type": "execute_result",
          "data": {
            "text/html": [
              "<div>\n",
              "<style scoped>\n",
              "    .dataframe tbody tr th:only-of-type {\n",
              "        vertical-align: middle;\n",
              "    }\n",
              "\n",
              "    .dataframe tbody tr th {\n",
              "        vertical-align: top;\n",
              "    }\n",
              "\n",
              "    .dataframe thead th {\n",
              "        text-align: right;\n",
              "    }\n",
              "</style>\n",
              "<table border=\"1\" class=\"dataframe\">\n",
              "  <thead>\n",
              "    <tr style=\"text-align: right;\">\n",
              "      <th></th>\n",
              "      <th>Tags</th>\n",
              "      <th>Counts</th>\n",
              "    </tr>\n",
              "  </thead>\n",
              "  <tbody>\n",
              "    <tr>\n",
              "      <th>0</th>\n",
              "      <td>.a</td>\n",
              "      <td>18</td>\n",
              "    </tr>\n",
              "    <tr>\n",
              "      <th>1</th>\n",
              "      <td>.app</td>\n",
              "      <td>37</td>\n",
              "    </tr>\n",
              "    <tr>\n",
              "      <th>2</th>\n",
              "      <td>.asp.net-mvc</td>\n",
              "      <td>1</td>\n",
              "    </tr>\n",
              "    <tr>\n",
              "      <th>3</th>\n",
              "      <td>.aspxauth</td>\n",
              "      <td>21</td>\n",
              "    </tr>\n",
              "    <tr>\n",
              "      <th>4</th>\n",
              "      <td>.bash-profile</td>\n",
              "      <td>138</td>\n",
              "    </tr>\n",
              "  </tbody>\n",
              "</table>\n",
              "</div>"
            ],
            "text/plain": [
              "            Tags  Counts\n",
              "0             .a      18\n",
              "1           .app      37\n",
              "2   .asp.net-mvc       1\n",
              "3      .aspxauth      21\n",
              "4  .bash-profile     138"
            ]
          },
          "metadata": {
            "tags": []
          },
          "execution_count": 9
        }
      ]
    },
    {
      "cell_type": "markdown",
      "metadata": {
        "id": "HaEIINwrLyYi",
        "colab_type": "text"
      },
      "source": [
        "Sorting the tag_df in the decending order"
      ]
    },
    {
      "cell_type": "code",
      "metadata": {
        "id": "Y9pGiec09nKU",
        "colab_type": "code",
        "colab": {}
      },
      "source": [
        "tag_df.sort_values(['Counts'], inplace = True, ascending = False)"
      ],
      "execution_count": 0,
      "outputs": []
    },
    {
      "cell_type": "code",
      "metadata": {
        "id": "M9q6cEOlUx2v",
        "colab_type": "code",
        "outputId": "61ddd6af-2577-49ac-9311-aae43fa884a1",
        "colab": {
          "base_uri": "https://localhost:8080/",
          "height": 335
        }
      },
      "source": [
        "tag_df.head(10)"
      ],
      "execution_count": 0,
      "outputs": [
        {
          "output_type": "execute_result",
          "data": {
            "text/html": [
              "<div>\n",
              "<style scoped>\n",
              "    .dataframe tbody tr th:only-of-type {\n",
              "        vertical-align: middle;\n",
              "    }\n",
              "\n",
              "    .dataframe tbody tr th {\n",
              "        vertical-align: top;\n",
              "    }\n",
              "\n",
              "    .dataframe thead th {\n",
              "        text-align: right;\n",
              "    }\n",
              "</style>\n",
              "<table border=\"1\" class=\"dataframe\">\n",
              "  <thead>\n",
              "    <tr style=\"text-align: right;\">\n",
              "      <th></th>\n",
              "      <th>Tags</th>\n",
              "      <th>Counts</th>\n",
              "    </tr>\n",
              "  </thead>\n",
              "  <tbody>\n",
              "    <tr>\n",
              "      <th>4337</th>\n",
              "      <td>c#</td>\n",
              "      <td>331505</td>\n",
              "    </tr>\n",
              "    <tr>\n",
              "      <th>18069</th>\n",
              "      <td>java</td>\n",
              "      <td>299414</td>\n",
              "    </tr>\n",
              "    <tr>\n",
              "      <th>27249</th>\n",
              "      <td>php</td>\n",
              "      <td>284103</td>\n",
              "    </tr>\n",
              "    <tr>\n",
              "      <th>18157</th>\n",
              "      <td>javascript</td>\n",
              "      <td>265423</td>\n",
              "    </tr>\n",
              "    <tr>\n",
              "      <th>1234</th>\n",
              "      <td>android</td>\n",
              "      <td>235436</td>\n",
              "    </tr>\n",
              "    <tr>\n",
              "      <th>18608</th>\n",
              "      <td>jquery</td>\n",
              "      <td>221533</td>\n",
              "    </tr>\n",
              "    <tr>\n",
              "      <th>4346</th>\n",
              "      <td>c++</td>\n",
              "      <td>143936</td>\n",
              "    </tr>\n",
              "    <tr>\n",
              "      <th>29101</th>\n",
              "      <td>python</td>\n",
              "      <td>134137</td>\n",
              "    </tr>\n",
              "    <tr>\n",
              "      <th>17643</th>\n",
              "      <td>iphone</td>\n",
              "      <td>128681</td>\n",
              "    </tr>\n",
              "    <tr>\n",
              "      <th>2215</th>\n",
              "      <td>asp.net</td>\n",
              "      <td>125651</td>\n",
              "    </tr>\n",
              "  </tbody>\n",
              "</table>\n",
              "</div>"
            ],
            "text/plain": [
              "             Tags  Counts\n",
              "4337           c#  331505\n",
              "18069        java  299414\n",
              "27249         php  284103\n",
              "18157  javascript  265423\n",
              "1234      android  235436\n",
              "18608      jquery  221533\n",
              "4346          c++  143936\n",
              "29101      python  134137\n",
              "17643      iphone  128681\n",
              "2215      asp.net  125651"
            ]
          },
          "metadata": {
            "tags": []
          },
          "execution_count": 6
        }
      ]
    },
    {
      "cell_type": "markdown",
      "metadata": {
        "id": "piXQpTB6U6c_",
        "colab_type": "text"
      },
      "source": [
        "### Tag **Plots**"
      ]
    },
    {
      "cell_type": "markdown",
      "metadata": {
        "id": "Cm965zQISPvY",
        "colab_type": "text"
      },
      "source": [
        "Plot the Distribution of Frequency of Tags"
      ]
    },
    {
      "cell_type": "code",
      "metadata": {
        "id": "Z58HrwVgpOh6",
        "colab_type": "code",
        "outputId": "63ffe377-d226-43a2-c6b5-001d95326598",
        "colab": {
          "base_uri": "https://localhost:8080/",
          "height": 295
        }
      },
      "source": [
        "plt.plot(tag_df['Counts'].values)\n",
        "plt.title(\"Distribution of number of times tag appeared questions\")\n",
        "plt.grid()\n",
        "plt.xlabel(\"Tag number in sorted order\")\n",
        "plt.ylabel(\"Number of times tag appeared\")\n",
        "plt.show()"
      ],
      "execution_count": 0,
      "outputs": [
        {
          "output_type": "display_data",
          "data": {
            "image/png": "[encoded data removed]",
            "text/plain": [
              "<Figure size 432x288 with 1 Axes>"
            ]
          },
          "metadata": {
            "tags": []
          }
        }
      ]
    },
    {
      "cell_type": "code",
      "metadata": {
        "id": "lSOmnqNorGoi",
        "colab_type": "code",
        "outputId": "ddd722ed-2d32-4200-9433-afb7100f4ad5",
        "colab": {
          "base_uri": "https://localhost:8080/",
          "height": 50
        }
      },
      "source": [
        "print(\"Tags that appered more than 10000 times: \", len( tag_df.loc[tag_df['Counts'] > 10000]))\n",
        "print(\"Tags that appered less than 100 times: \", len( tag_df.loc[tag_df['Counts'] < 100])"
      ],
      "execution_count": 0,
      "outputs": [
        {
          "output_type": "stream",
          "text": [
            "Tags that appered more than 10000 times:  153\n",
            "Tags that appered less than 100 times:  33758\n"
          ],
          "name": "stdout"
        }
      ]
    },
    {
      "cell_type": "markdown",
      "metadata": {
        "id": "Bs9WnUpyjrPF",
        "colab_type": "text"
      },
      "source": [
        "*Since some tags occur much more frequenctly than others, Micro-averaged F1-score is the appropriate metric for this probelm.*\n",
        "\n"
      ]
    },
    {
      "cell_type": "markdown",
      "metadata": {
        "id": "2UmgTp4g1a4b",
        "colab_type": "text"
      },
      "source": [
        "Describtion of Tags Count"
      ]
    },
    {
      "cell_type": "code",
      "metadata": {
        "id": "jw5AagoYV6nZ",
        "colab_type": "code",
        "outputId": "d128a988-cfee-497d-bede-8eaedbb7f9f6",
        "colab": {
          "base_uri": "https://localhost:8080/",
          "height": 163
        }
      },
      "source": [
        "train_df.Tags_count.describe()"
      ],
      "execution_count": 0,
      "outputs": [
        {
          "output_type": "execute_result",
          "data": {
            "text/plain": [
              "count    4.206307e+06\n",
              "mean     2.899443e+00\n",
              "std      1.211915e+00\n",
              "min      1.000000e+00\n",
              "25%      2.000000e+00\n",
              "50%      3.000000e+00\n",
              "75%      4.000000e+00\n",
              "max      5.000000e+00\n",
              "Name: Tags_count, dtype: float64"
            ]
          },
          "metadata": {
            "tags": []
          },
          "execution_count": 23
        }
      ]
    },
    {
      "cell_type": "code",
      "metadata": {
        "id": "LdUoh0kcoHbS",
        "colab_type": "code",
        "outputId": "da0e3c3d-a0ca-431c-d880-77058326b6b8",
        "colab": {
          "base_uri": "https://localhost:8080/",
          "height": 115
        }
      },
      "source": [
        "train_df.Tags_count.value_counts()"
      ],
      "execution_count": 0,
      "outputs": [
        {
          "output_type": "execute_result",
          "data": {
            "text/plain": [
              "3    1206157\n",
              "2    1111706\n",
              "4     814996\n",
              "1     568290\n",
              "5     505158\n",
              "Name: Tags_count, dtype: int64"
            ]
          },
          "metadata": {
            "tags": []
          },
          "execution_count": 38
        }
      ]
    },
    {
      "cell_type": "markdown",
      "metadata": {
        "id": "zF9ogUG219AE",
        "colab_type": "text"
      },
      "source": [
        "**Making Fancy word cloud which shows larger the font size greater the frequency.**"
      ]
    },
    {
      "cell_type": "code",
      "metadata": {
        "id": "XBvZy5cAskJ4",
        "colab_type": "code",
        "outputId": "d73e6454-6702-4be4-9034-bbae1b0d3f9d",
        "colab": {
          "base_uri": "https://localhost:8080/",
          "height": 407
        }
      },
      "source": [
        "#plot word cloud\n",
        "start = datetime.datetime.now()\n",
        "# Lets first convert tag_df to 'list of tuples'\n",
        "list_of_tuples = []\n",
        "for t in tag_df.values:\n",
        "  list_of_tuples.append(tuple(t))\n",
        "#Initializing  WordCloud\n",
        "wordcloud = WordCloud(background_color = 'black', width=1000, height=500).generate_from_frequencies(dict(list_of_tuples))\n",
        "fig = plt.figure(figsize=(10,5))\n",
        "plt.imshow(wordcloud)\n",
        "plt.tight_layout(pad=1)\n",
        "fig.savefig(\"/content/gdrive/My Drive/kaggle/tag.png\")\n",
        "plt.show()\n",
        "print(\"Time taken to run this cell :\", datetime.datetime.now() - start)"
      ],
      "execution_count": 0,
      "outputs": [
        {
          "output_type": "display_data",
          "data": {
            "image/png": "[encoded data removed]",
            "text/plain": [
              "<Figure size 720x360 with 1 Axes>"
            ]
          },
          "metadata": {
            "tags": []
          }
        },
        {
          "output_type": "stream",
          "text": [
            "Time taken to run this cell : 0:00:01.941666\n"
          ],
          "name": "stdout"
        }
      ]
    },
    {
      "cell_type": "markdown",
      "metadata": {
        "id": "ITOcEfSVKRGA",
        "colab_type": "text"
      },
      "source": [
        "# **Data Cleaning** - Stage 2"
      ]
    },
    {
      "cell_type": "markdown",
      "metadata": {
        "id": "R2Czuyala4ZM",
        "colab_type": "text"
      },
      "source": [
        "pattern = eeeAiiZuuuuAoooZeeee\n",
        "\n",
        "The patterns yield the following matches:\n",
        "\n",
        "    A.*Z yields 1 match: AiiZuuuuAoooZ (This backiters and finds the last Z)\n",
        "\n",
        "    A.*?Z yields 2 matches: AiiZ and AoooZ (This frontiters and find the maximum matches)"
      ]
    },
    {
      "cell_type": "code",
      "metadata": {
        "id": "sD1YjOhmKQuZ",
        "colab_type": "code",
        "colab": {}
      },
      "source": [
        "#This function remove the html tags from the string\n",
        "def striphtml(data):\n",
        "  cleanr = re.compile(r'(<.*?>)')\n",
        "  cleantext = re.sub(cleanr, ' ', data)\n",
        "  return cleantext\n",
        "\n",
        "def alpha(data):\n",
        "  pattern_not_alphabet = re.compile(r'[^A-Za-z]+')\n",
        "  pattern_not_alphabet_text = re.sub(pattern_not_alphabet, ' ', data)\n",
        "  return pattern_not_alphabet_text\n"
      ],
      "execution_count": 0,
      "outputs": []
    },
    {
      "cell_type": "markdown",
      "metadata": {
        "id": "1Odk7O_uiDLm",
        "colab_type": "text"
      },
      "source": [
        "Downloaded all **nltk** resource by nltk.download() but, as I found out, it takes **~2.5GB**. To use only **nltk.tokenize.word_tokenize** just download ** untill it gives error**."
      ]
    },
    {
      "cell_type": "code",
      "metadata": {
        "id": "V5Dbg28fhLH0",
        "colab_type": "code",
        "outputId": "4ee037ba-4670-4722-d718-03089c7f3bb4",
        "colab": {
          "base_uri": "https://localhost:8080/",
          "height": 98
        }
      },
      "source": [
        "nltk.download('punkt')\n",
        "nltk.download('stopwords')"
      ],
      "execution_count": 0,
      "outputs": [
        {
          "output_type": "stream",
          "text": [
            "[nltk_data] Downloading package punkt to /root/nltk_data...\n",
            "[nltk_data]   Package punkt is already up-to-date!\n",
            "[nltk_data] Downloading package stopwords to /root/nltk_data...\n",
            "[nltk_data]   Package stopwords is already up-to-date!\n"
          ],
          "name": "stdout"
        },
        {
          "output_type": "execute_result",
          "data": {
            "text/plain": [
              "True"
            ]
          },
          "metadata": {
            "tags": []
          },
          "execution_count": 8
        }
      ]
    },
    {
      "cell_type": "markdown",
      "metadata": {
        "id": "iWpBmFiaKvaY",
        "colab_type": "text"
      },
      "source": [
        "Program below is capable for incomplete runs! because Google colab kernel dies after every 90 minutes of idel time, weak connection or memory overload. So that file can continue the file rather than restart the process from the work was left unfinished."
      ]
    },
    {
      "cell_type": "markdown",
      "metadata": {
        "id": "CvVSZgI5srtT",
        "colab_type": "text"
      },
      "source": [
        "### Training Data"
      ]
    },
    {
      "cell_type": "code",
      "metadata": {
        "id": "Psw4plFEtTPD",
        "colab_type": "code",
        "colab": {}
      },
      "source": [
        "stop_words = set(stopwords.words('english'))\n",
        "stemmer  = SnowballStemmer('english')\n",
        "pattern_code = re.compile(r'<code>(.*?)</code>')"
      ],
      "execution_count": 0,
      "outputs": []
    },
    {
      "cell_type": "code",
      "metadata": {
        "id": "NByiUpEn5C4t",
        "colab_type": "code",
        "outputId": "036a373b-b5fd-45cb-abfd-2796caaea4d0",
        "colab": {
          "base_uri": "https://localhost:8080/",
          "height": 66
        }
      },
      "source": [
        "with open('/content/gdrive/My Drive/kaggle/processed_training_data.csv', 'a+') as csv_file:\n",
        "  writer = csv.writer(csv_file)\n",
        "  \n",
        "  #Counting lines and re-initiating the process if fails.\n",
        "  num_lines = sum(1 for line in open('/content/gdrive/My Drive/kaggle/processed_training_data.csv'))\n",
        "  if(num_lines == 0):\n",
        "    writer.writerow(['Question','Tags'])\n",
        "    num_lines = 1\n",
        "  print(\"Lines already processed : \", num_lines-1)\n",
        "  \n",
        "  for i in tqdm(range(num_lines-1, 4206307)):\n",
        "    \n",
        "    # Raw text\n",
        "    Body_text = str(train_df['Body'][i].encode('utf-8'))\n",
        "    Title_text = str(train_df['Title'][i].encode('utf-8'))\n",
        "\n",
        "    # strip html and non-aplha\n",
        "    Body_striphtml = striphtml( Body_text ) \n",
        "    Body_striphtml_alpha = alpha(Body_striphtml)\n",
        "    Title_alpha = alpha(Title_text)\n",
        "\n",
        "    #removing stopwords and stem the text except the 'c' and 'r' because it is programming language.\n",
        "    Body_words = word_tokenize(Body_striphtml_alpha.lower())\n",
        "    Body_striphtml_stemmer = ' '.join(str(stemmer.stem(j)) for j in Body_words if j not in stop_words and (len(j)!=1 or j=='c'))   \n",
        "    Title_words = word_tokenize( Title_alpha )     \n",
        "    Title_stemmer = ' '.join(str(stemmer.stem(j)) for j in Title_words if j not in stop_words and (len(j)!=1 or j=='c' or j=='r'))\n",
        "    \n",
        "    #We here 3 times the Title to give more weight.\n",
        "    processed_list = []\n",
        "    processed_list.extend([Title_stemmer, Title_stemmer, Title_stemmer, Body_striphtml_stemmer])\n",
        "    \n",
        "    #This sub-section are used to extract the codes in the text.\n",
        "    codes = pattern_code.findall( Body_text ) \n",
        "    for code in codes:\n",
        "      #processing code\n",
        "      code_Text = alpha(code)\n",
        "      code_words = word_tokenize( code_Text )     \n",
        "      code_stemmer = ' '.join(str(stemmer.stem(j)) for j in code_words if j not in stop_words and (len(j)!=1 or j=='c'))\n",
        "      processed_list.append(code_stemmer)\n",
        "    \n",
        "    #converting list to string\n",
        "    processed_string = \" \".join(processed_list)\n",
        "    writer.writerow([processed_string,train_df['Tags'][i]])\n",
        "print(\"Training File Is Processed Completely and saved as processed_training_data.csv\")"
      ],
      "execution_count": 0,
      "outputs": [
        {
          "output_type": "stream",
          "text": [
            "\r0it [00:00, ?it/s]"
          ],
          "name": "stderr"
        },
        {
          "output_type": "stream",
          "text": [
            "Lines already processed :  4206307\n",
            "Training File Is Processed Completely and saved as processed_training_data.csv\n"
          ],
          "name": "stdout"
        },
        {
          "output_type": "stream",
          "text": [
            "\n"
          ],
          "name": "stderr"
        }
      ]
    },
    {
      "cell_type": "markdown",
      "metadata": {
        "id": "PObk50g_spAW",
        "colab_type": "text"
      },
      "source": [
        "##Test Data"
      ]
    },
    {
      "cell_type": "code",
      "metadata": {
        "id": "hJH-XG1NhKXl",
        "colab_type": "code",
        "outputId": "d37ae8e4-4b9b-42fb-c52a-42a40a1545fb",
        "colab": {
          "base_uri": "https://localhost:8080/",
          "height": 86
        }
      },
      "source": [
        "test_df = pd.read_csv('/content/gdrive/My Drive/kaggle/Test.csv')\n",
        "test_size = len(test_df['Id'])\n",
        "\n",
        "with open('/content/gdrive/My Drive/kaggle/processed_testing_data.csv', 'a+') as csv_file:\n",
        "  writer = csv.writer(csv_file)\n",
        "  \n",
        "  #Counting lines and re-initiating the process if fails.\n",
        "  num_lines = sum(1 for line in open('/content/gdrive/My Drive/kaggle/processed_testing_data.csv'))\n",
        "  if(num_lines == 0):\n",
        "    writer.writerow(['Question'])\n",
        "    num_lines = 1\n",
        "  print(\"Lines already processed : \", num_lines-1)\n",
        "  \n",
        "  for i in tqdm(range(num_lines-1, test_size)):\n",
        "    \n",
        "    # Raw text\n",
        "    Body_text = str(test_df['Body'][i].encode('utf-8'))\n",
        "    Title_text = str(test_df['Title'][i].encode('utf-8'))\n",
        "\n",
        "    # strip html and non-aplha\n",
        "    Body_striphtml = striphtml( Body_text ) \n",
        "    Body_striphtml_alpha = alpha(Body_striphtml)\n",
        "    Title_alpha = alpha(Title_text)\n",
        "\n",
        "    #removing stopwords and stem the text except the 'c' and 'r' because it is programming language.\n",
        "    Body_words = word_tokenize(Body_striphtml_alpha.lower())\n",
        "    Body_striphtml_stemmer = ' '.join(str(stemmer.stem(j)) for j in Body_words if j not in stop_words and (len(j)!=1 or j=='c'))   \n",
        "    Title_words = word_tokenize( Title_alpha )     \n",
        "    Title_stemmer = ' '.join(str(stemmer.stem(j)) for j in Title_words if j not in stop_words and (len(j)!=1 or j=='c' or j=='r'))\n",
        "    \n",
        "    #We here 3 times the Title to give more weight.\n",
        "    processed_list = []\n",
        "    processed_list.extend([Title_stemmer, Title_stemmer, Title_stemmer, Body_striphtml_stemmer])\n",
        "    \n",
        "    #This sub-section are used to extract the codes in the text.\n",
        "    codes = pattern_code.findall( Body_text ) \n",
        "    for code in codes:\n",
        "      #processing code\n",
        "      code_Text = alpha(code)\n",
        "      code_words = word_tokenize( code_Text )     \n",
        "      code_stemmer = ' '.join(str(stemmer.stem(j)) for j in code_words if j not in stop_words and (len(j)!=1 or j=='c'))\n",
        "      processed_list.append(code_stemmer)\n",
        "    \n",
        "    #converting list to string\n",
        "    processed_string = \" \".join(processed_list)\n",
        "    writer.writerow([processed_string])\n",
        "print(\"Testing File Is Processed Completely and saved as processed_testing_data.csv\")"
      ],
      "execution_count": 0,
      "outputs": [
        {
          "output_type": "stream",
          "text": [
            "  0%|          | 38/2013337 [00:00<1:41:40, 330.02it/s]"
          ],
          "name": "stderr"
        },
        {
          "output_type": "stream",
          "text": [
            "Lines already processed :  0\n"
          ],
          "name": "stdout"
        },
        {
          "output_type": "stream",
          "text": [
            "100%|██████████| 2013337/2013337 [1:51:56<00:00, 299.75it/s]"
          ],
          "name": "stderr"
        },
        {
          "output_type": "stream",
          "text": [
            "Testing File Is Processed Completely and saved as processed_testing_data.csv\n"
          ],
          "name": "stdout"
        },
        {
          "output_type": "stream",
          "text": [
            "\n"
          ],
          "name": "stderr"
        }
      ]
    },
    {
      "cell_type": "markdown",
      "metadata": {
        "id": "xK3bOf8ZyMvm",
        "colab_type": "text"
      },
      "source": [
        "# Machine Learning"
      ]
    },
    {
      "cell_type": "markdown",
      "metadata": {
        "id": "V6zEMg3lulRO",
        "colab_type": "text"
      },
      "source": [
        "## Spliting the training Data"
      ]
    },
    {
      "cell_type": "markdown",
      "metadata": {
        "id": "Y6V7vmBeuVKO",
        "colab_type": "text"
      },
      "source": [
        "Spiliting the Training Data into 80:20 for training the model."
      ]
    },
    {
      "cell_type": "code",
      "metadata": {
        "id": "a9wnir5auc5n",
        "colab_type": "code",
        "colab": {}
      },
      "source": [
        "processed_training_data = pd.read_csv('/content/gdrive/My Drive/kaggle/processed_training_data.csv')\n",
        "\n",
        "X_train, X_test, y_train, y_test = train_test_split(pd.DataFrame(processed_training_data['Question']), pd.DataFrame(processed_training_data['Tags']), test_size = 0.2, random_state = 42)\n",
        "X_train.to_csv('/content/gdrive/My Drive/kaggle/X_train.csv')\n",
        "X_test.to_csv('/content/gdrive/My Drive/kaggle/X_test.csv')\n",
        "y_train.to_csv('/content/gdrive/My Drive/kaggle/y_train.csv')\n",
        "y_test.to_csv('/content/gdrive/My Drive/kaggle/y_test.csv')"
      ],
      "execution_count": 0,
      "outputs": []
    },
    {
      "cell_type": "markdown",
      "metadata": {
        "id": "IhdJaO861tYP",
        "colab_type": "text"
      },
      "source": [
        "Reading the splited files."
      ]
    },
    {
      "cell_type": "code",
      "metadata": {
        "id": "evRZ_NhP1zfk",
        "colab_type": "code",
        "colab": {}
      },
      "source": [
        "#X_train_df = pd.read_csv('/content/gdrive/My Drive/kaggle/X_train.csv')\n",
        "X_test_df = pd.read_csv('/content/gdrive/My Drive/kaggle/X_test.csv')\n",
        "#y_train_df = pd.read_csv('/content/gdrive/My Drive/kaggle/y_train.csv')\n",
        "y_test_df = pd.read_csv('/content/gdrive/My Drive/kaggle/y_test.csv')"
      ],
      "execution_count": 0,
      "outputs": []
    },
    {
      "cell_type": "markdown",
      "metadata": {
        "id": "5uTha2Bz2N5-",
        "colab_type": "text"
      },
      "source": [
        "## Tags Reduction"
      ]
    },
    {
      "cell_type": "markdown",
      "metadata": {
        "id": "siUaHOaPilVC",
        "colab_type": "text"
      },
      "source": [
        "Redction of Tags due to limited computation Power.\n",
        "Reduction of Tags will be done based on the partial coverage of the question . If a question can be given any one tag then it will be considered covered."
      ]
    },
    {
      "cell_type": "code",
      "metadata": {
        "id": "JcWecqlQ5cL6",
        "colab_type": "code",
        "colab": {}
      },
      "source": [
        "tag_df = pd.read_csv('/content/gdrive/My Drive/kaggle/tag_freq_dict.csv', names=['Tags', 'Counts'])\n",
        "tag_df.sort_values(['Counts'], inplace = True, ascending = False)\n",
        "\n",
        "#Saving this sorted dictionary to csv files.\n",
        "tag_df.to_csv('/content/gdrive/My Drive/kaggle/tag_freq_dict_sorted.csv')"
      ],
      "execution_count": 0,
      "outputs": []
    },
    {
      "cell_type": "code",
      "metadata": {
        "id": "w12SD24sIizo",
        "colab_type": "code",
        "colab": {}
      },
      "source": [
        "#making spare matrix of tags\n",
        "cv = CountVectorizer(tokenizer = lambda x: x.split()) \n",
        "# if we don't use tokenizer only numeric and albhabet will be chossen and ignore .-, etc.\n",
        "# and igonre the word with 1 letter.\n",
        "tag_mtx = cv.fit_transform(y_train_df['Tags'])\n",
        "\n",
        "all_unique_tags = cv.get_feature_names()\n",
        "freq = tag_mtx.sum(axis = 0).A1\n",
        "#.A1 convert everyting to 1-D\n",
        "freq_dict = dict(zip(all_unique_tags,freq))"
      ],
      "execution_count": 0,
      "outputs": []
    },
    {
      "cell_type": "code",
      "metadata": {
        "id": "DPvPBx5y6yzK",
        "colab_type": "code",
        "outputId": "e1d701bf-33c4-4ca8-b542-7958841e897f",
        "colab": {
          "base_uri": "https://localhost:8080/",
          "height": 342
        }
      },
      "source": [
        "start = datetime.datetime.now()\n",
        "\n",
        "#Read the tags sorted files.\n",
        "tag_df = pd.read_csv('/content/gdrive/My Drive/kaggle/tag_freq_dict_sorted.csv')\n",
        "\n",
        "#lets see first 2000 tags.\n",
        "Questions_Coverage = [ 0 for i in range(3365045)]\n",
        "Selected_Tags = []\n",
        "Selected_Tags_Percentage = []\n",
        "for t in (range(2000)):\n",
        "  if(tag_df['Tags'][t] in all_unique_tags):\n",
        "    ques_lst =  list(tag_mtx.tocsr()[:,all_unique_tags.index(tag_df['Tags'][t])].todense().A1)\n",
        "    for i in range(3365045):\n",
        "      Questions_Coverage[i] = Questions_Coverage[i] or ques_lst[i]\n",
        "    Selected_Tags.append(tag_df['Tags'][t])\n",
        "    Selected_Tags_Percentage.append(Questions_Coverage.count(1) / 3365045 * 100)\n",
        "    if(len(Selected_Tags)%10 0==0):\n",
        "      print(\"Length of Selected Tags \", len(Selected_Tags), \" covers the \", Selected_Tags_Percentage[-1] , \" percent of questions.\")\n",
        "print(\"Time of completion of subsection\", datetime.datetime.now() - start)"
      ],
      "execution_count": 0,
      "outputs": [
        {
          "output_type": "stream",
          "text": [
            "Length of Selected Tags  100  covers the  76.51740169893716  percent of questions.\n",
            "Length of Selected Tags  200  covers the  83.17327108552783  percent of questions.\n",
            "Length of Selected Tags  300  covers the  86.26071865309379  percent of questions.\n",
            "Length of Selected Tags  400  covers the  88.41281468747074  percent of questions.\n",
            "Length of Selected Tags  500  covers the  90.06149992050626  percent of questions.\n",
            "Length of Selected Tags  600  covers the  91.23524351085945  percent of questions.\n",
            "Length of Selected Tags  700  covers the  92.14355231505077  percent of questions.\n",
            "Length of Selected Tags  800  covers the  92.89941144917823  percent of questions.\n",
            "Length of Selected Tags  900  covers the  93.69788516944053  percent of questions.\n",
            "Length of Selected Tags  1000  covers the  94.17193529358448  percent of questions.\n",
            "Length of Selected Tags  1100  covers the  94.5581708416975  percent of questions.\n",
            "Length of Selected Tags  1200  covers the  94.84283271100387  percent of questions.\n",
            "Length of Selected Tags  1300  covers the  95.25774543876828  percent of questions.\n",
            "Length of Selected Tags  1400  covers the  95.55150079716616  percent of questions.\n",
            "Length of Selected Tags  1500  covers the  95.82320593038132  percent of questions.\n",
            "Length of Selected Tags  1600  covers the  96.08899732395852  percent of questions.\n",
            "Length of Selected Tags  1700  covers the  96.31565105370062  percent of questions.\n",
            "Length of Selected Tags  1800  covers the  96.52171070520602  percent of questions.\n",
            "Length of Selected Tags  1900  covers the  96.75100927327867  percent of questions.\n",
            "Time of completion of subsection 1:22:32.864117\n"
          ],
          "name": "stdout"
        }
      ]
    },
    {
      "cell_type": "code",
      "metadata": {
        "id": "-WCDSffLTz4o",
        "colab_type": "code",
        "outputId": "4d5708e3-1baf-40db-ed41-c6cd3d0ee039",
        "colab": {
          "base_uri": "https://localhost:8080/",
          "height": 295
        }
      },
      "source": [
        "plt.plot(Selected_Tags_Percentage)\n",
        "plt.title(\"Distribution of number of tags vs Partial coverage\")\n",
        "plt.grid()\n",
        "plt.xlabel(\"Number of top tags\")\n",
        "plt.ylabel(\"Percenage of partial coverage\")\n",
        "plt.show()"
      ],
      "execution_count": 0,
      "outputs": [
        {
          "output_type": "display_data",
          "data": {
            "image/png": "[encoded data removed]",
            "text/plain": [
              "<Figure size 432x288 with 1 Axes>"
            ]
          },
          "metadata": {
            "tags": []
          }
        }
      ]
    },
    {
      "cell_type": "code",
      "metadata": {
        "id": "nJ20qmt_ulJJ",
        "colab_type": "code",
        "colab": {}
      },
      "source": [
        "with open(\"/content/gdrive/My Drive/kaggle/Selected_Tags.txt\",\"wb\") as fp: #pickling\n",
        "  pickle.dump(Selected_Tags,fp)"
      ],
      "execution_count": 0,
      "outputs": []
    },
    {
      "cell_type": "code",
      "metadata": {
        "id": "uQqi_YF_vrvz",
        "colab_type": "code",
        "colab": {}
      },
      "source": [
        "with open(\"/content/gdrive/My Drive/kaggle/Selected_Tags.txt\", \"rb\") as fp:   # Unpickling\n",
        "  Selected_Tags = pickle.load(fp)"
      ],
      "execution_count": 0,
      "outputs": []
    },
    {
      "cell_type": "markdown",
      "metadata": {
        "id": "eP8LBQaAfVmj",
        "colab_type": "text"
      },
      "source": [
        "## Removing Questions with no coverage\n",
        "\n",
        "\n"
      ]
    },
    {
      "cell_type": "markdown",
      "metadata": {
        "id": "Guly_FVegOE0",
        "colab_type": "text"
      },
      "source": [
        "With the above knowledge we can say 500 tags are sufficient to cover more than 90 percentage of data. \n",
        "\n",
        "Here 2 steps are foloowed in order.\n",
        "\n",
        "1.   Remove all tags not in top 500 tags.\n",
        "2.   Remove the questions with no tags or no coverage.\n",
        "\n"
      ]
    },
    {
      "cell_type": "code",
      "metadata": {
        "id": "K3WiaPFeh2GB",
        "colab_type": "code",
        "outputId": "35a92def-2996-4bd8-d09b-aaa66f15bfd4",
        "colab": {
          "base_uri": "https://localhost:8080/",
          "height": 50
        }
      },
      "source": [
        "start = datetime.datetime.now()\n",
        "set_selected_tags_500 = set(Selected_Tags[0:500])\n",
        "\n",
        "remove_index = []\n",
        "new_tags = []\n",
        "no_of_questions = len(y_train_df['Tags'])\n",
        "\n",
        "with open('/content/gdrive/My Drive/kaggle/y_train_500_df.csv', 'a+') as csv_file:\n",
        "  writer = csv.writer(csv_file)\n",
        "  writer.writerow(['Tags'])\n",
        "  for i in tqdm(range(no_of_questions)):\n",
        "    tags_words = y_train_df['Tags'][i].split(\" \")\n",
        "    temp_tags = list(set(tags_words).intersection(set_selected_tags_500))\n",
        "    if(len(temp_tags) == 0):\n",
        "      remove_index.append(i)\n",
        "    else:  \n",
        "      writer.writerow([\" \".join(temp_tags)])\n",
        "print(\"Time to run this Sub-Section\", datetime.datetime.now()-start)"
      ],
      "execution_count": 0,
      "outputs": [
        {
          "output_type": "stream",
          "text": [
            "100%|██████████| 3365045/3365045 [01:35<00:00, 35244.21it/s]"
          ],
          "name": "stderr"
        },
        {
          "output_type": "stream",
          "text": [
            "Time to run this Sub-Section 0:01:35.501290\n"
          ],
          "name": "stdout"
        },
        {
          "output_type": "stream",
          "text": [
            "\n"
          ],
          "name": "stderr"
        }
      ]
    },
    {
      "cell_type": "code",
      "metadata": {
        "id": "wOoc_Q6u7nGL",
        "colab_type": "code",
        "colab": {}
      },
      "source": [
        "with open(\"/content/gdrive/My Drive/kaggle/remove_index.txt\",\"wb\") as fp: #pickling\n",
        "  pickle.dump(remove_index,fp)\n",
        "\n",
        "with open(\"/content/gdrive/My Drive/kaggle/remove_index.txt\", \"rb\") as fp:   # Unpickling\n",
        "  remove_index = pickle.load(fp)\n",
        "\n",
        "X_train_500_df = X_train_df.drop(remove_index)\n",
        "X_train_500_df.to_csv('/content/gdrive/My Drive/kaggle/X_train_500_df.csv')"
      ],
      "execution_count": 0,
      "outputs": []
    },
    {
      "cell_type": "code",
      "metadata": {
        "id": "z8ZNxC8G8OsK",
        "colab_type": "code",
        "colab": {}
      },
      "source": [
        "X_train_500_df = pd.read_csv('/content/gdrive/My Drive/kaggle/X_train_500_df.csv')\n",
        "y_train_500_df = pd.read_csv('/content/gdrive/My Drive/kaggle/y_train_500_df.csv')"
      ],
      "execution_count": 0,
      "outputs": []
    },
    {
      "cell_type": "code",
      "metadata": {
        "id": "-WgPWBv5-fkJ",
        "colab_type": "code",
        "outputId": "a6e48091-2a31-4c89-cd55-02bf98497580",
        "colab": {
          "base_uri": "https://localhost:8080/",
          "height": 391
        }
      },
      "source": [
        "X_train_500_df"
      ],
      "execution_count": 0,
      "outputs": [
        {
          "output_type": "execute_result",
          "data": {
            "text/html": [
              "<div>\n",
              "<style scoped>\n",
              "    .dataframe tbody tr th:only-of-type {\n",
              "        vertical-align: middle;\n",
              "    }\n",
              "\n",
              "    .dataframe tbody tr th {\n",
              "        vertical-align: top;\n",
              "    }\n",
              "\n",
              "    .dataframe thead th {\n",
              "        text-align: right;\n",
              "    }\n",
              "</style>\n",
              "<table border=\"1\" class=\"dataframe\">\n",
              "  <thead>\n",
              "    <tr style=\"text-align: right;\">\n",
              "      <th></th>\n",
              "      <th>Unnamed: 0</th>\n",
              "      <th>Unnamed: 0.1</th>\n",
              "      <th>Question</th>\n",
              "    </tr>\n",
              "  </thead>\n",
              "  <tbody>\n",
              "    <tr>\n",
              "      <th>0</th>\n",
              "      <td>0</td>\n",
              "      <td>1040695</td>\n",
              "      <td>linux store arp cach entri use wrong interfac ...</td>\n",
              "    </tr>\n",
              "    <tr>\n",
              "      <th>1</th>\n",
              "      <td>1</td>\n",
              "      <td>1403212</td>\n",
              "      <td>replic linkedin databus sqlserver replic linke...</td>\n",
              "    </tr>\n",
              "    <tr>\n",
              "      <th>2</th>\n",
              "      <td>2</td>\n",
              "      <td>1197568</td>\n",
              "      <td>getinst infer usag tri specifi type argument e...</td>\n",
              "    </tr>\n",
              "    <tr>\n",
              "      <th>3</th>\n",
              "      <td>3</td>\n",
              "      <td>206301</td>\n",
              "      <td>how add new key valu pair specif associ key as...</td>\n",
              "    </tr>\n",
              "    <tr>\n",
              "      <th>4</th>\n",
              "      <td>4</td>\n",
              "      <td>1279280</td>\n",
              "      <td>percentcomplet achiev return decim valu percen...</td>\n",
              "    </tr>\n",
              "    <tr>\n",
              "      <th>...</th>\n",
              "      <td>...</td>\n",
              "      <td>...</td>\n",
              "      <td>...</td>\n",
              "    </tr>\n",
              "    <tr>\n",
              "      <th>3030605</th>\n",
              "      <td>3365039</td>\n",
              "      <td>1239911</td>\n",
              "      <td>how append function draggabl item replacewith ...</td>\n",
              "    </tr>\n",
              "    <tr>\n",
              "      <th>3030606</th>\n",
              "      <td>3365041</td>\n",
              "      <td>1136074</td>\n",
              "      <td>jqueri duplic span append use fadeout jqueri d...</td>\n",
              "    </tr>\n",
              "    <tr>\n",
              "      <th>3030607</th>\n",
              "      <td>3365042</td>\n",
              "      <td>1570006</td>\n",
              "      <td>white hat test white hat test white hat test g...</td>\n",
              "    </tr>\n",
              "    <tr>\n",
              "      <th>3030608</th>\n",
              "      <td>3365043</td>\n",
              "      <td>2234489</td>\n",
              "      <td>how tell link exe use wmain entri point lnk un...</td>\n",
              "    </tr>\n",
              "    <tr>\n",
              "      <th>3030609</th>\n",
              "      <td>3365044</td>\n",
              "      <td>1692743</td>\n",
              "      <td>where alertbox titl come uiwebview where alert...</td>\n",
              "    </tr>\n",
              "  </tbody>\n",
              "</table>\n",
              "<p>3030610 rows × 3 columns</p>\n",
              "</div>"
            ],
            "text/plain": [
              "         Unnamed: 0  ...                                           Question\n",
              "0                 0  ...  linux store arp cach entri use wrong interfac ...\n",
              "1                 1  ...  replic linkedin databus sqlserver replic linke...\n",
              "2                 2  ...  getinst infer usag tri specifi type argument e...\n",
              "3                 3  ...  how add new key valu pair specif associ key as...\n",
              "4                 4  ...  percentcomplet achiev return decim valu percen...\n",
              "...             ...  ...                                                ...\n",
              "3030605     3365039  ...  how append function draggabl item replacewith ...\n",
              "3030606     3365041  ...  jqueri duplic span append use fadeout jqueri d...\n",
              "3030607     3365042  ...  white hat test white hat test white hat test g...\n",
              "3030608     3365043  ...  how tell link exe use wmain entri point lnk un...\n",
              "3030609     3365044  ...  where alertbox titl come uiwebview where alert...\n",
              "\n",
              "[3030610 rows x 3 columns]"
            ]
          },
          "metadata": {
            "tags": []
          },
          "execution_count": 36
        }
      ]
    },
    {
      "cell_type": "markdown",
      "metadata": {
        "id": "h0Bd1hhJj0f-",
        "colab_type": "text"
      },
      "source": [
        "## "
      ]
    },
    {
      "cell_type": "code",
      "metadata": {
        "id": "PbJVrp2QI7EI",
        "colab_type": "code",
        "outputId": "1e52a1ca-ca28-457b-9ace-ea8bb04c339d",
        "colab": {
          "base_uri": "https://localhost:8080/",
          "height": 391
        }
      },
      "source": [
        "y_train_500_df"
      ],
      "execution_count": 0,
      "outputs": [
        {
          "output_type": "execute_result",
          "data": {
            "text/html": [
              "<div>\n",
              "<style scoped>\n",
              "    .dataframe tbody tr th:only-of-type {\n",
              "        vertical-align: middle;\n",
              "    }\n",
              "\n",
              "    .dataframe tbody tr th {\n",
              "        vertical-align: top;\n",
              "    }\n",
              "\n",
              "    .dataframe thead th {\n",
              "        text-align: right;\n",
              "    }\n",
              "</style>\n",
              "<table border=\"1\" class=\"dataframe\">\n",
              "  <thead>\n",
              "    <tr style=\"text-align: right;\">\n",
              "      <th></th>\n",
              "      <th>Tags</th>\n",
              "    </tr>\n",
              "  </thead>\n",
              "  <tbody>\n",
              "    <tr>\n",
              "      <th>0</th>\n",
              "      <td>linux</td>\n",
              "    </tr>\n",
              "    <tr>\n",
              "      <th>1</th>\n",
              "      <td>sql-server-2008</td>\n",
              "    </tr>\n",
              "    <tr>\n",
              "      <th>2</th>\n",
              "      <td>generics .net c#</td>\n",
              "    </tr>\n",
              "    <tr>\n",
              "      <th>3</th>\n",
              "      <td>arrays php</td>\n",
              "    </tr>\n",
              "    <tr>\n",
              "      <th>4</th>\n",
              "      <td>ios</td>\n",
              "    </tr>\n",
              "    <tr>\n",
              "      <th>...</th>\n",
              "      <td>...</td>\n",
              "    </tr>\n",
              "    <tr>\n",
              "      <th>3030605</th>\n",
              "      <td>javascript jquery html</td>\n",
              "    </tr>\n",
              "    <tr>\n",
              "      <th>3030606</th>\n",
              "      <td>jquery-plugins</td>\n",
              "    </tr>\n",
              "    <tr>\n",
              "      <th>3030607</th>\n",
              "      <td>security testing</td>\n",
              "    </tr>\n",
              "    <tr>\n",
              "      <th>3030608</th>\n",
              "      <td>c++ windows</td>\n",
              "    </tr>\n",
              "    <tr>\n",
              "      <th>3030609</th>\n",
              "      <td>uiwebview ios</td>\n",
              "    </tr>\n",
              "  </tbody>\n",
              "</table>\n",
              "<p>3030610 rows × 1 columns</p>\n",
              "</div>"
            ],
            "text/plain": [
              "                           Tags\n",
              "0                         linux\n",
              "1               sql-server-2008\n",
              "2              generics .net c#\n",
              "3                    arrays php\n",
              "4                           ios\n",
              "...                         ...\n",
              "3030605  javascript jquery html\n",
              "3030606          jquery-plugins\n",
              "3030607        security testing\n",
              "3030608             c++ windows\n",
              "3030609           uiwebview ios\n",
              "\n",
              "[3030610 rows x 1 columns]"
            ]
          },
          "metadata": {
            "tags": []
          },
          "execution_count": 45
        }
      ]
    },
    {
      "cell_type": "markdown",
      "metadata": {
        "id": "yOIeOfrGxfUA",
        "colab_type": "text"
      },
      "source": [
        "## Featurizing data with TF-IDF vectorizer"
      ]
    },
    {
      "cell_type": "code",
      "metadata": {
        "id": "MIX2zJ3XJWMd",
        "colab_type": "code",
        "colab": {
          "base_uri": "https://localhost:8080/",
          "height": 33
        },
        "outputId": "39d5cb73-3eab-4e68-f506-5d167416c4b7"
      },
      "source": [
        "start = datetime.datetime.now()\n",
        "#smooth_idf=True by default so smoothing is done by defult.\n",
        "#norm is l2 by default.\n",
        "#subliner is used False by default.\n",
        "vectorizer = TfidfVectorizer(min_df = 0.0001, \n",
        "                             max_features = 100000, \n",
        "                             tokenizer = lambda x: x.split(),\n",
        "                             ngram_range = (1,2))\n",
        "x_train_tfidf = vectorizer.fit_transform( X_train_500_df['Question'])\n",
        "X_test_tfidf = vectorizer.fit_transform( X_test_df['Question'] )\n",
        "\n",
        "print(\"Time to run this Subsection \", datetime.datetime.now() - start)"
      ],
      "execution_count": 10,
      "outputs": [
        {
          "output_type": "stream",
          "text": [
            "Time to run this Subsection  0:25:22.714445\n"
          ],
          "name": "stdout"
        }
      ]
    },
    {
      "cell_type": "code",
      "metadata": {
        "id": "hOfGuHkuRBYm",
        "colab_type": "code",
        "colab": {
          "base_uri": "https://localhost:8080/",
          "height": 50
        },
        "outputId": "be0ad79e-cf2a-4337-fbdd-390d7772cd77"
      },
      "source": [
        "print(\"Dimensions of train data X:\",x_train_tfidf.shape, \"Y :\", y_train_500_df.shape)\n",
        "print(\"Dimensions of test data X:\",X_test_tfidf.shape,\"Y:\",y_test_df.shape)"
      ],
      "execution_count": 12,
      "outputs": [
        {
          "output_type": "stream",
          "text": [
            "Dimensions of train data X: (3030610, 100000) Y : (3030610, 1)\n",
            "Dimensions of test data X: (841262, 100000) Y: (841262, 2)\n"
          ],
          "name": "stdout"
        }
      ]
    },
    {
      "cell_type": "code",
      "metadata": {
        "id": "aO8F33LjUNKG",
        "colab_type": "code",
        "colab": {}
      },
      "source": [
        "with open(\"/content/gdrive/My Drive/kaggle/x_train_tfidf.pkl\",\"wb\") as fp: #pickling\n",
        "  pickle.dump(x_train_tfidf,fp)\n",
        "#with open(\"/content/gdrive/My Drive/kaggle/x_test_tfidf.pkl\",\"wb\") as fp: #pickling\n",
        "#  pickle.dump(X_test_tfidf,fp)"
      ],
      "execution_count": 0,
      "outputs": []
    },
    {
      "cell_type": "code",
      "metadata": {
        "id": "IxMNGO6fU4Xo",
        "colab_type": "code",
        "colab": {}
      },
      "source": [
        "\n",
        "with open(\"/content/gdrive/My Drive/kaggle/x_train_tfidf.pkl\", \"rb\") as fp:   # Unpickling\n",
        "  x_train_tfidf = pickle.load(fp)\n",
        "with open(\"/content/gdrive/My Drive/kaggle/x_train_tfidf.pkl\", \"rb\") as fp:   # Unpickling\n",
        "  x_train_tfidf = pickle.load(fp)\n"
      ],
      "execution_count": 0,
      "outputs": []
    },
    {
      "cell_type": "code",
      "metadata": {
        "id": "mutxU7TbTJnM",
        "colab_type": "code",
        "colab": {
          "base_uri": "https://localhost:8080/",
          "height": 391
        },
        "outputId": "a555c475-35c9-4702-e6ea-d9ce20949957"
      },
      "source": [
        "X_test_df"
      ],
      "execution_count": 9,
      "outputs": [
        {
          "output_type": "execute_result",
          "data": {
            "text/html": [
              "<div>\n",
              "<style scoped>\n",
              "    .dataframe tbody tr th:only-of-type {\n",
              "        vertical-align: middle;\n",
              "    }\n",
              "\n",
              "    .dataframe tbody tr th {\n",
              "        vertical-align: top;\n",
              "    }\n",
              "\n",
              "    .dataframe thead th {\n",
              "        text-align: right;\n",
              "    }\n",
              "</style>\n",
              "<table border=\"1\" class=\"dataframe\">\n",
              "  <thead>\n",
              "    <tr style=\"text-align: right;\">\n",
              "      <th></th>\n",
              "      <th>Unnamed: 0</th>\n",
              "      <th>Question</th>\n",
              "    </tr>\n",
              "  </thead>\n",
              "  <tbody>\n",
              "    <tr>\n",
              "      <th>0</th>\n",
              "      <td>4168912</td>\n",
              "      <td>is safe assign nullptr function pointer variab...</td>\n",
              "    </tr>\n",
              "    <tr>\n",
              "      <th>1</th>\n",
              "      <td>993923</td>\n",
              "      <td>android javascriptinterfac problem android jav...</td>\n",
              "    </tr>\n",
              "    <tr>\n",
              "      <th>2</th>\n",
              "      <td>89794</td>\n",
              "      <td>vertic slider fill bar chang colour depend lar...</td>\n",
              "    </tr>\n",
              "    <tr>\n",
              "      <th>3</th>\n",
              "      <td>452746</td>\n",
              "      <td>can vs vspackag project instal vs can vs vspac...</td>\n",
              "    </tr>\n",
              "    <tr>\n",
              "      <th>4</th>\n",
              "      <td>2322953</td>\n",
              "      <td>shortcom declar program shortcom declar progra...</td>\n",
              "    </tr>\n",
              "    <tr>\n",
              "      <th>...</th>\n",
              "      <td>...</td>\n",
              "      <td>...</td>\n",
              "    </tr>\n",
              "    <tr>\n",
              "      <th>841257</th>\n",
              "      <td>3022021</td>\n",
              "      <td>how disabl open window explor scan how disabl ...</td>\n",
              "    </tr>\n",
              "    <tr>\n",
              "      <th>841258</th>\n",
              "      <td>2228071</td>\n",
              "      <td>php class problem php class problem php class ...</td>\n",
              "    </tr>\n",
              "    <tr>\n",
              "      <th>841259</th>\n",
              "      <td>285336</td>\n",
              "      <td>selenium use ff profil trust ssl certif seleni...</td>\n",
              "    </tr>\n",
              "    <tr>\n",
              "      <th>841260</th>\n",
              "      <td>2997759</td>\n",
              "      <td>powershel some command run invok command power...</td>\n",
              "    </tr>\n",
              "    <tr>\n",
              "      <th>841261</th>\n",
              "      <td>2540918</td>\n",
              "      <td>how includ pytz packag django app heroku deplo...</td>\n",
              "    </tr>\n",
              "  </tbody>\n",
              "</table>\n",
              "<p>841262 rows × 2 columns</p>\n",
              "</div>"
            ],
            "text/plain": [
              "        Unnamed: 0                                           Question\n",
              "0          4168912  is safe assign nullptr function pointer variab...\n",
              "1           993923  android javascriptinterfac problem android jav...\n",
              "2            89794  vertic slider fill bar chang colour depend lar...\n",
              "3           452746  can vs vspackag project instal vs can vs vspac...\n",
              "4          2322953  shortcom declar program shortcom declar progra...\n",
              "...            ...                                                ...\n",
              "841257     3022021  how disabl open window explor scan how disabl ...\n",
              "841258     2228071  php class problem php class problem php class ...\n",
              "841259      285336  selenium use ff profil trust ssl certif seleni...\n",
              "841260     2997759  powershel some command run invok command power...\n",
              "841261     2540918  how includ pytz packag django app heroku deplo...\n",
              "\n",
              "[841262 rows x 2 columns]"
            ]
          },
          "metadata": {
            "tags": []
          },
          "execution_count": 9
        }
      ]
    },
    {
      "cell_type": "code",
      "metadata": {
        "id": "GX1rvbrUTPhn",
        "colab_type": "code",
        "colab": {}
      },
      "source": [
        ""
      ],
      "execution_count": 0,
      "outputs": []
    }
  ]
}